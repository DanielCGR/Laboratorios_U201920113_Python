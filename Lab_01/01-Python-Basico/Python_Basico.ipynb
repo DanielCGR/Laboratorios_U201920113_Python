{
  "cells": [
    {
      "cell_type": "markdown",
      "metadata": {
        "id": "qXzlu0E2RdLX"
      },
      "source": [
        "___\n",
        "\n",
        "\n",
        "<a href='https://pregrado.upc.edu.pe/facultad-de-ingenieria/ciencias-de-la-computacion/'> <img src='https://tftransporteinternacional.files.wordpress.com/2014/06/76b3b-logoupc.png' with = 200, height = 100 /></a>\n",
        "\n",
        "<a href='https://jupyter-notebook.readthedocs.io/en/stable/examples/Notebook/Running%20Code.html'> <img src='https://www.python.org/static/img/python-logo.png' /></a>\n",
        "___\n",
        "# Python Curso Básico\n",
        "\n",
        "**El estudiante que ya domina Python puede pasar a resolver los ejercicios propuestos**\n",
        "\n",
        "Este cuaderno solo repasará los temas básicos en el siguiente orden:\n",
        "\n",
        "* Tipo de datos\n",
        "    * Numeros\n",
        "    * Cadenas\n",
        "    * Impresión\n",
        "    * Listas\n",
        "    * Diccionarios\n",
        "    * Booleans\n",
        "    * Tuplas\n",
        "    * Conjuntos\n",
        "* Operadores de Comparación\n",
        "* Estamentos if, elif, else \n",
        "* Bucle for\n",
        "* Bucle while\n",
        "* range()\n",
        "* comprension de listas\n",
        "* funciones\n",
        "* expresiones lambda\n",
        "* map y filter\n",
        "* metodos\n",
        "____"
      ]
    },
    {
      "cell_type": "markdown",
      "metadata": {
        "id": "Yx3dnooGRdLf"
      },
      "source": [
        "## Tipo de Datos\n",
        "\n",
        "### Numeros"
      ]
    },
    {
      "cell_type": "code",
      "execution_count": null,
      "metadata": {
        "id": "_FT-5HG7RdLg",
        "outputId": "86357837-8ab2-431a-9cdc-897118c4292a"
      },
      "outputs": [
        {
          "data": {
            "text/plain": [
              "2"
            ]
          },
          "execution_count": 6,
          "metadata": {},
          "output_type": "execute_result"
        }
      ],
      "source": [
        "1 + 1"
      ]
    },
    {
      "cell_type": "code",
      "execution_count": null,
      "metadata": {
        "id": "Oo-DVd27RdLi",
        "outputId": "b568fb36-e409-497e-f18b-6a4f5ea4248e"
      },
      "outputs": [
        {
          "data": {
            "text/plain": [
              "3"
            ]
          },
          "execution_count": 7,
          "metadata": {},
          "output_type": "execute_result"
        }
      ],
      "source": [
        "1 * 3"
      ]
    },
    {
      "cell_type": "code",
      "execution_count": null,
      "metadata": {
        "id": "POrMGN4GRdLi",
        "outputId": "d0b8f8da-d359-497e-bd4a-711e01527587"
      },
      "outputs": [
        {
          "data": {
            "text/plain": [
              "0.5"
            ]
          },
          "execution_count": 8,
          "metadata": {},
          "output_type": "execute_result"
        }
      ],
      "source": [
        "1 / 2"
      ]
    },
    {
      "cell_type": "code",
      "execution_count": null,
      "metadata": {
        "id": "rNUoD1x_RdLj",
        "outputId": "9b7f4e6e-42fc-4ff0-f231-8dcb21e9b341"
      },
      "outputs": [
        {
          "data": {
            "text/plain": [
              "16"
            ]
          },
          "execution_count": 9,
          "metadata": {},
          "output_type": "execute_result"
        }
      ],
      "source": [
        "2 ** 4"
      ]
    },
    {
      "cell_type": "code",
      "execution_count": null,
      "metadata": {
        "id": "_M1muGW1RdLk",
        "outputId": "9a19d1d0-8cce-429f-d716-68ecd15c4daa"
      },
      "outputs": [
        {
          "data": {
            "text/plain": [
              "50"
            ]
          },
          "execution_count": 12,
          "metadata": {},
          "output_type": "execute_result"
        }
      ],
      "source": [
        "(2 + 3) * (5 + 5)"
      ]
    },
    {
      "cell_type": "markdown",
      "metadata": {
        "id": "n_EtKHVlRdLl"
      },
      "source": [
        "### Asignación de Variables"
      ]
    },
    {
      "cell_type": "code",
      "execution_count": null,
      "metadata": {
        "id": "c9BKaa3wRdLm"
      },
      "outputs": [],
      "source": [
        "# No puede comenzar con números o caracteres especiales.\n",
        "num = 2"
      ]
    },
    {
      "cell_type": "code",
      "execution_count": null,
      "metadata": {
        "id": "j0PoSCVERdLn"
      },
      "outputs": [],
      "source": [
        "x = 2\n",
        "y = 3"
      ]
    },
    {
      "cell_type": "code",
      "execution_count": null,
      "metadata": {
        "collapsed": true,
        "id": "8iU03FCDRdLo"
      },
      "outputs": [],
      "source": [
        "z = x + y"
      ]
    },
    {
      "cell_type": "code",
      "execution_count": null,
      "metadata": {
        "id": "vl93MQiSRdLp",
        "outputId": "236bf49c-8ae2-4e88-9868-eb754fd0071a"
      },
      "outputs": [
        {
          "data": {
            "text/plain": [
              "5"
            ]
          },
          "execution_count": 16,
          "metadata": {},
          "output_type": "execute_result"
        }
      ],
      "source": [
        "z"
      ]
    },
    {
      "cell_type": "markdown",
      "metadata": {
        "id": "SWpbdm_TRdLp"
      },
      "source": [
        "### Cadenas"
      ]
    },
    {
      "cell_type": "code",
      "execution_count": null,
      "metadata": {
        "id": "BrgBM5ZYRdLq",
        "outputId": "cb2e6681-8ad1-4705-fcfb-dfeb45e1df60"
      },
      "outputs": [
        {
          "data": {
            "text/plain": [
              "'comillas simples'"
            ]
          },
          "execution_count": 3,
          "metadata": {},
          "output_type": "execute_result"
        }
      ],
      "source": [
        "'comillas simples'"
      ]
    },
    {
      "cell_type": "code",
      "execution_count": null,
      "metadata": {
        "id": "VAUOucH4RdLq",
        "outputId": "269febe9-2db6-48cc-a330-4518cd882a53"
      },
      "outputs": [
        {
          "data": {
            "text/plain": [
              "'comillas dobles'"
            ]
          },
          "execution_count": 4,
          "metadata": {},
          "output_type": "execute_result"
        }
      ],
      "source": [
        "\"comillas dobles\""
      ]
    },
    {
      "cell_type": "code",
      "execution_count": null,
      "metadata": {
        "id": "fJaf0cl1RdLr",
        "outputId": "117eeb83-3058-4d52-a1a4-1fe748ce65a2"
      },
      "outputs": [
        {
          "data": {
            "text/plain": [
              "\" envolver 'muchas' otras citas\""
            ]
          },
          "execution_count": 5,
          "metadata": {},
          "output_type": "execute_result"
        }
      ],
      "source": [
        "\" envolver 'muchas' otras citas\""
      ]
    },
    {
      "cell_type": "markdown",
      "metadata": {
        "id": "9Z0gPPELRdLr"
      },
      "source": [
        "### Impresión"
      ]
    },
    {
      "cell_type": "code",
      "execution_count": null,
      "metadata": {
        "id": "Z9aWvf10RdLs"
      },
      "outputs": [],
      "source": [
        "x = 'hola'"
      ]
    },
    {
      "cell_type": "code",
      "execution_count": null,
      "metadata": {
        "id": "X2cG3ujdRdLs",
        "outputId": "1e39dff4-cca1-481d-dcac-dfff9ea7d778"
      },
      "outputs": [
        {
          "data": {
            "text/plain": [
              "'hola'"
            ]
          },
          "execution_count": 7,
          "metadata": {},
          "output_type": "execute_result"
        }
      ],
      "source": [
        "x"
      ]
    },
    {
      "cell_type": "code",
      "execution_count": null,
      "metadata": {
        "id": "nNIlVGOqRdLs",
        "outputId": "2b73bfcf-d88f-4f67-f7b3-d8955fa0ee1b"
      },
      "outputs": [
        {
          "name": "stdout",
          "output_type": "stream",
          "text": [
            "hola\n"
          ]
        }
      ],
      "source": [
        "print(x)"
      ]
    },
    {
      "cell_type": "code",
      "execution_count": null,
      "metadata": {
        "id": "SltrnlajRdLt"
      },
      "outputs": [],
      "source": [
        "num = 20\n",
        "name = 'Pedro'"
      ]
    },
    {
      "cell_type": "code",
      "execution_count": null,
      "metadata": {
        "id": "QPTGmn8xRdLt",
        "outputId": "abdb4ec9-9b99-45eb-fa5e-f06d6e2b5629"
      },
      "outputs": [
        {
          "name": "stdout",
          "output_type": "stream",
          "text": [
            "Mi numero: 20, y mi nombre es: Pedro \n"
          ]
        }
      ],
      "source": [
        "print('Mi numero: {one}, y mi nombre es: {two} '.format(one=num,two=name))"
      ]
    },
    {
      "cell_type": "code",
      "execution_count": null,
      "metadata": {
        "id": "7NClaAX0RdLt",
        "outputId": "2016d0e0-c322-4b71-8e59-12d726e5ccc3"
      },
      "outputs": [
        {
          "name": "stdout",
          "output_type": "stream",
          "text": [
            "Mi numero: 20, y mi nombre es: Pedro\n"
          ]
        }
      ],
      "source": [
        "print('Mi numero: {}, y mi nombre es: {}'.format(num,name))"
      ]
    },
    {
      "cell_type": "markdown",
      "metadata": {
        "id": "ob0PLaClRdLu"
      },
      "source": [
        "### Listas"
      ]
    },
    {
      "cell_type": "code",
      "execution_count": null,
      "metadata": {
        "id": "GgWB8jZ_RdLv",
        "outputId": "d976dec1-defa-42cf-bcee-46968fe7446d"
      },
      "outputs": [
        {
          "data": {
            "text/plain": [
              "[1, 2, 3]"
            ]
          },
          "execution_count": 14,
          "metadata": {},
          "output_type": "execute_result"
        }
      ],
      "source": [
        "[1,2,3]"
      ]
    },
    {
      "cell_type": "code",
      "execution_count": null,
      "metadata": {
        "id": "NoKk12JJRdLv",
        "outputId": "1cf6a5f5-d007-49a9-b91d-9a615d981519"
      },
      "outputs": [
        {
          "data": {
            "text/plain": [
              "['hola', 1, [1, 2]]"
            ]
          },
          "execution_count": 15,
          "metadata": {},
          "output_type": "execute_result"
        }
      ],
      "source": [
        "['hola',1,[1,2]]"
      ]
    },
    {
      "cell_type": "code",
      "execution_count": null,
      "metadata": {
        "id": "VNbjgs5URdLv"
      },
      "outputs": [],
      "source": [
        "my_list = ['a','b','c']"
      ]
    },
    {
      "cell_type": "code",
      "execution_count": null,
      "metadata": {
        "id": "bp1MT8csRdLv"
      },
      "outputs": [],
      "source": [
        "my_list.append('d')"
      ]
    },
    {
      "cell_type": "code",
      "execution_count": null,
      "metadata": {
        "id": "OaR5Bq7yRdLw",
        "outputId": "5763d652-f742-42a5-e525-aed2158274b5"
      },
      "outputs": [
        {
          "data": {
            "text/plain": [
              "['a', 'b', 'c', 'd']"
            ]
          },
          "execution_count": 18,
          "metadata": {},
          "output_type": "execute_result"
        }
      ],
      "source": [
        "my_list"
      ]
    },
    {
      "cell_type": "code",
      "execution_count": null,
      "metadata": {
        "id": "0vBkKXRzRdLw",
        "outputId": "c6fcd628-5285-4af5-8070-38a0e646fac9"
      },
      "outputs": [
        {
          "data": {
            "text/plain": [
              "'a'"
            ]
          },
          "execution_count": 19,
          "metadata": {},
          "output_type": "execute_result"
        }
      ],
      "source": [
        "my_list[0]"
      ]
    },
    {
      "cell_type": "code",
      "execution_count": null,
      "metadata": {
        "id": "IqUI7GlxRdLw",
        "outputId": "c6dab40a-0b44-4656-d611-a9216fb6279e"
      },
      "outputs": [
        {
          "data": {
            "text/plain": [
              "'b'"
            ]
          },
          "execution_count": 20,
          "metadata": {},
          "output_type": "execute_result"
        }
      ],
      "source": [
        "my_list[1]"
      ]
    },
    {
      "cell_type": "code",
      "execution_count": null,
      "metadata": {
        "id": "UIzUVMPsRdLw",
        "outputId": "c2999f54-ddcd-4d52-fa46-277473f87690"
      },
      "outputs": [
        {
          "data": {
            "text/plain": [
              "['b', 'c', 'd']"
            ]
          },
          "execution_count": 21,
          "metadata": {},
          "output_type": "execute_result"
        }
      ],
      "source": [
        "my_list[1:]"
      ]
    },
    {
      "cell_type": "code",
      "execution_count": null,
      "metadata": {
        "id": "eM6cJ2tTRdLw",
        "outputId": "fc6b2983-e8b6-4cb3-ab5a-bec673397e51"
      },
      "outputs": [
        {
          "data": {
            "text/plain": [
              "['a']"
            ]
          },
          "execution_count": 22,
          "metadata": {},
          "output_type": "execute_result"
        }
      ],
      "source": [
        "my_list[:1]"
      ]
    },
    {
      "cell_type": "code",
      "execution_count": null,
      "metadata": {
        "id": "JzDqrfgMRdLx"
      },
      "outputs": [],
      "source": [
        "my_list[0] = 'Nuevo'"
      ]
    },
    {
      "cell_type": "code",
      "execution_count": null,
      "metadata": {
        "id": "jlaKLzHqRdLx",
        "outputId": "27c6b3ef-4ed6-4418-e4f0-e966ba1bf495"
      },
      "outputs": [
        {
          "data": {
            "text/plain": [
              "['Nuevo', 'b', 'c', 'd']"
            ]
          },
          "execution_count": 24,
          "metadata": {},
          "output_type": "execute_result"
        }
      ],
      "source": [
        "my_list"
      ]
    },
    {
      "cell_type": "code",
      "execution_count": null,
      "metadata": {
        "id": "ui-2fYLRRdLx"
      },
      "outputs": [],
      "source": [
        "nest = [1,2,3,[4,5,['destino']]]"
      ]
    },
    {
      "cell_type": "code",
      "execution_count": null,
      "metadata": {
        "id": "jGmAY6uRRdLx",
        "outputId": "a9cd85c9-a898-40c0-90b1-1a42686ffe8a"
      },
      "outputs": [
        {
          "data": {
            "text/plain": [
              "[4, 5, ['destino']]"
            ]
          },
          "execution_count": 26,
          "metadata": {},
          "output_type": "execute_result"
        }
      ],
      "source": [
        "nest[3]"
      ]
    },
    {
      "cell_type": "code",
      "execution_count": null,
      "metadata": {
        "id": "_P1He5ZaRdLy",
        "outputId": "b02e4881-f017-4b6e-c04e-d2f793178029"
      },
      "outputs": [
        {
          "data": {
            "text/plain": [
              "['destino']"
            ]
          },
          "execution_count": 27,
          "metadata": {},
          "output_type": "execute_result"
        }
      ],
      "source": [
        "nest[3][2]"
      ]
    },
    {
      "cell_type": "code",
      "execution_count": null,
      "metadata": {
        "id": "VMJLyreiRdLy",
        "outputId": "1b19f531-a2c6-4113-fe86-5d8f29a995a4"
      },
      "outputs": [
        {
          "data": {
            "text/plain": [
              "'destino'"
            ]
          },
          "execution_count": 28,
          "metadata": {},
          "output_type": "execute_result"
        }
      ],
      "source": [
        "nest[3][2][0]"
      ]
    },
    {
      "cell_type": "markdown",
      "metadata": {
        "id": "ucq7idj4RdLy"
      },
      "source": [
        "### Diccionarios"
      ]
    },
    {
      "cell_type": "code",
      "execution_count": null,
      "metadata": {
        "id": "Y_SYgsXuRdLy"
      },
      "outputs": [],
      "source": [
        "d = {'key1':'item1','key2':'item2'}"
      ]
    },
    {
      "cell_type": "code",
      "execution_count": null,
      "metadata": {
        "id": "wopNrZLCRdLy",
        "outputId": "cf0fa0ac-f750-4c7c-82c8-11b95ccde261"
      },
      "outputs": [
        {
          "data": {
            "text/plain": [
              "{'key1': 'item1', 'key2': 'item2'}"
            ]
          },
          "execution_count": 5,
          "metadata": {},
          "output_type": "execute_result"
        }
      ],
      "source": [
        "d"
      ]
    },
    {
      "cell_type": "code",
      "execution_count": null,
      "metadata": {
        "id": "YOpR2Vi2RdLz",
        "outputId": "787d39e9-54be-487f-e0a4-c4470eaf456a"
      },
      "outputs": [
        {
          "data": {
            "text/plain": [
              "['item1', 'item2', 'item3']"
            ]
          },
          "execution_count": 58,
          "metadata": {},
          "output_type": "execute_result"
        }
      ],
      "source": [
        "d['key1']"
      ]
    },
    {
      "cell_type": "code",
      "execution_count": null,
      "metadata": {
        "id": "gHu84lpRRdLz",
        "outputId": "e6f87a7e-434d-45f0-84d4-702670c6d6fd"
      },
      "outputs": [
        {
          "data": {
            "text/plain": [
              "['item1', 'item2', 'item3']"
            ]
          },
          "execution_count": 62,
          "metadata": {},
          "output_type": "execute_result"
        }
      ],
      "source": [
        "d['key1']"
      ]
    },
    {
      "cell_type": "markdown",
      "metadata": {
        "id": "4OAi4zLERdLz"
      },
      "source": [
        "### Booleans"
      ]
    },
    {
      "cell_type": "code",
      "execution_count": null,
      "metadata": {
        "id": "IjjJ-fwsRdLz",
        "outputId": "3fa1fe07-2f91-489b-bc91-075680a35962"
      },
      "outputs": [
        {
          "data": {
            "text/plain": [
              "True"
            ]
          },
          "execution_count": 32,
          "metadata": {},
          "output_type": "execute_result"
        }
      ],
      "source": [
        "True"
      ]
    },
    {
      "cell_type": "code",
      "execution_count": null,
      "metadata": {
        "id": "Pw-vcqU7RdL0",
        "outputId": "bd1fb475-3b41-4983-be69-843108b068af"
      },
      "outputs": [
        {
          "data": {
            "text/plain": [
              "False"
            ]
          },
          "execution_count": 33,
          "metadata": {},
          "output_type": "execute_result"
        }
      ],
      "source": [
        "False"
      ]
    },
    {
      "cell_type": "markdown",
      "metadata": {
        "id": "6dqS9SL-RdL0"
      },
      "source": [
        "### Tuplas"
      ]
    },
    {
      "cell_type": "code",
      "execution_count": 2,
      "metadata": {
        "id": "gv8G3pUCRdL0"
      },
      "outputs": [],
      "source": [
        "t = (1,2,3)"
      ]
    },
    {
      "cell_type": "code",
      "execution_count": 3,
      "metadata": {
        "colab": {
          "base_uri": "https://localhost:8080/"
        },
        "id": "ryVhF0OgRdL0",
        "outputId": "273f5857-d38d-47f7-f867-b21f68d4df04"
      },
      "outputs": [
        {
          "output_type": "execute_result",
          "data": {
            "text/plain": [
              "1"
            ]
          },
          "metadata": {},
          "execution_count": 3
        }
      ],
      "source": [
        "t[0]"
      ]
    },
    {
      "cell_type": "code",
      "execution_count": 5,
      "metadata": {
        "colab": {
          "base_uri": "https://localhost:8080/",
          "height": 172
        },
        "id": "AASwPIaoRdL0",
        "outputId": "7ea89819-43b4-4b58-a20b-f81047d43353"
      },
      "outputs": [
        {
          "output_type": "error",
          "ename": "TypeError",
          "evalue": "ignored",
          "traceback": [
            "\u001b[0;31m---------------------------------------------------------------------------\u001b[0m",
            "\u001b[0;31mTypeError\u001b[0m                                 Traceback (most recent call last)",
            "\u001b[0;32m<ipython-input-5-c158c1f10b20>\u001b[0m in \u001b[0;36m<module>\u001b[0;34m()\u001b[0m\n\u001b[0;32m----> 1\u001b[0;31m \u001b[0mt\u001b[0m\u001b[0;34m[\u001b[0m\u001b[0;36m0\u001b[0m\u001b[0;34m]\u001b[0m \u001b[0;34m=\u001b[0m \u001b[0;34m\"Nuevo\"\u001b[0m \u001b[0;31m#Tuplas no pueden cambiar sus valores\u001b[0m\u001b[0;34m\u001b[0m\u001b[0;34m\u001b[0m\u001b[0m\n\u001b[0m",
            "\u001b[0;31mTypeError\u001b[0m: 'tuple' object does not support item assignment"
          ]
        }
      ],
      "source": [
        "t[0] = \"Nuevo\" #Tuplas no pueden cambiar sus valores"
      ]
    },
    {
      "cell_type": "markdown",
      "metadata": {
        "id": "3cDnYH_IRdL0"
      },
      "source": [
        "### Conjuntos (Sets)"
      ]
    },
    {
      "cell_type": "code",
      "execution_count": null,
      "metadata": {
        "id": "lNjUIy5lRdL1",
        "outputId": "9fe5ba88-7a6a-4925-b26b-558a450ca12d"
      },
      "outputs": [
        {
          "data": {
            "text/plain": [
              "{1, 2, 3}"
            ]
          },
          "execution_count": 63,
          "metadata": {},
          "output_type": "execute_result"
        }
      ],
      "source": [
        "{1,2,3}"
      ]
    },
    {
      "cell_type": "code",
      "execution_count": null,
      "metadata": {
        "id": "d8shtItHRdL1",
        "outputId": "e97a6c34-45b3-481d-f688-86f832057f86"
      },
      "outputs": [
        {
          "data": {
            "text/plain": [
              "{1, 2, 3}"
            ]
          },
          "execution_count": 64,
          "metadata": {},
          "output_type": "execute_result"
        }
      ],
      "source": [
        "{1,2,3,1,2,1,2,3,3,3,3,2,2,2,1,1,2}"
      ]
    },
    {
      "cell_type": "markdown",
      "metadata": {
        "id": "FTFxs7k0RdL1"
      },
      "source": [
        "## Comparison Operators"
      ]
    },
    {
      "cell_type": "code",
      "execution_count": null,
      "metadata": {
        "id": "ud3tnSb0RdL1",
        "outputId": "4445d73b-a92a-4a4e-be8b-11153bb5c585"
      },
      "outputs": [
        {
          "data": {
            "text/plain": [
              "False"
            ]
          },
          "execution_count": 65,
          "metadata": {},
          "output_type": "execute_result"
        }
      ],
      "source": [
        "1 > 2"
      ]
    },
    {
      "cell_type": "code",
      "execution_count": null,
      "metadata": {
        "id": "r768-JezRdL1",
        "outputId": "390d5d22-ed3a-4d9e-e4b0-f142bd30ae7e"
      },
      "outputs": [
        {
          "data": {
            "text/plain": [
              "True"
            ]
          },
          "execution_count": 66,
          "metadata": {},
          "output_type": "execute_result"
        }
      ],
      "source": [
        "1 < 2"
      ]
    },
    {
      "cell_type": "code",
      "execution_count": null,
      "metadata": {
        "id": "f4_NvVqpRdL2",
        "outputId": "334e92b6-ad47-485e-d6a4-3e7c2c7ca72e"
      },
      "outputs": [
        {
          "data": {
            "text/plain": [
              "True"
            ]
          },
          "execution_count": 67,
          "metadata": {},
          "output_type": "execute_result"
        }
      ],
      "source": [
        "1 >= 1"
      ]
    },
    {
      "cell_type": "code",
      "execution_count": null,
      "metadata": {
        "id": "ha5_7iXkRdL2",
        "outputId": "97682558-0a90-46e1-826d-35c8e6e399ee"
      },
      "outputs": [
        {
          "data": {
            "text/plain": [
              "True"
            ]
          },
          "execution_count": 50,
          "metadata": {},
          "output_type": "execute_result"
        }
      ],
      "source": [
        "1 <= 4"
      ]
    },
    {
      "cell_type": "code",
      "execution_count": null,
      "metadata": {
        "id": "CDAp-JIoRdL2",
        "outputId": "6069bc41-134f-4ab9-d221-2147cb3a788e"
      },
      "outputs": [
        {
          "data": {
            "text/plain": [
              "True"
            ]
          },
          "execution_count": 68,
          "metadata": {},
          "output_type": "execute_result"
        }
      ],
      "source": [
        "1 == 1"
      ]
    },
    {
      "cell_type": "code",
      "execution_count": null,
      "metadata": {
        "id": "z4Jvm5wdRdL2",
        "outputId": "d9576c1e-f946-428c-ab3d-949f3fefa27b"
      },
      "outputs": [
        {
          "data": {
            "text/plain": [
              "False"
            ]
          },
          "execution_count": 69,
          "metadata": {},
          "output_type": "execute_result"
        }
      ],
      "source": [
        "'hola' == 'chau'"
      ]
    },
    {
      "cell_type": "markdown",
      "metadata": {
        "id": "eZYh_rZMRdL2"
      },
      "source": [
        "## Operadores Lógicos"
      ]
    },
    {
      "cell_type": "code",
      "execution_count": null,
      "metadata": {
        "id": "e788GmfJRdL3",
        "outputId": "2cfbe360-ad75-412e-91f2-e52d0ec4c0a1"
      },
      "outputs": [
        {
          "data": {
            "text/plain": [
              "False"
            ]
          },
          "execution_count": 53,
          "metadata": {},
          "output_type": "execute_result"
        }
      ],
      "source": [
        "(1 > 2) and (2 < 3)"
      ]
    },
    {
      "cell_type": "code",
      "execution_count": null,
      "metadata": {
        "id": "Jm6mZhjLRdL3",
        "outputId": "5d0f24b4-8b3b-47c0-f1b3-0ff3c8b252c5"
      },
      "outputs": [
        {
          "data": {
            "text/plain": [
              "True"
            ]
          },
          "execution_count": 54,
          "metadata": {},
          "output_type": "execute_result"
        }
      ],
      "source": [
        "(1 > 2) or (2 < 3)"
      ]
    },
    {
      "cell_type": "code",
      "execution_count": null,
      "metadata": {
        "id": "vj2DmQfbRdL3",
        "outputId": "dee6eb01-ec86-4534-b5e1-270d87656d23"
      },
      "outputs": [
        {
          "data": {
            "text/plain": [
              "True"
            ]
          },
          "execution_count": 55,
          "metadata": {},
          "output_type": "execute_result"
        }
      ],
      "source": [
        "(1 == 2) or (2 == 3) or (4 == 4)"
      ]
    },
    {
      "cell_type": "markdown",
      "metadata": {
        "id": "jRES2jzERdL4"
      },
      "source": [
        "## Estamentos if,elif, else "
      ]
    },
    {
      "cell_type": "code",
      "execution_count": null,
      "metadata": {
        "id": "fb5PBfz-RdL4",
        "outputId": "ecff840f-e9e4-4a5e-d151-74d92a7d4b16"
      },
      "outputs": [
        {
          "name": "stdout",
          "output_type": "stream",
          "text": [
            "Siiii!\n"
          ]
        }
      ],
      "source": [
        "if 1 < 2:\n",
        "    print('Siiii!')"
      ]
    },
    {
      "cell_type": "code",
      "execution_count": null,
      "metadata": {
        "id": "wXM6754HRdL4",
        "outputId": "878699c8-ad2c-43f4-bb8d-e1342bfa176e"
      },
      "outputs": [
        {
          "name": "stdout",
          "output_type": "stream",
          "text": [
            "Noo!\n"
          ]
        }
      ],
      "source": [
        "if 1 < 3:\n",
        "    print('Noo!')"
      ]
    },
    {
      "cell_type": "code",
      "execution_count": null,
      "metadata": {
        "id": "7CTAM67gRdL4",
        "outputId": "c32c2ac7-0495-4330-e332-446725257616"
      },
      "outputs": [
        {
          "name": "stdout",
          "output_type": "stream",
          "text": [
            "si\n"
          ]
        }
      ],
      "source": [
        "if 1 < 2:\n",
        "    print('si')\n",
        "else:\n",
        "    print('no')"
      ]
    },
    {
      "cell_type": "code",
      "execution_count": null,
      "metadata": {
        "id": "K9v8tpVARdL5",
        "outputId": "29f40daa-d878-4034-dea8-312a0890b254"
      },
      "outputs": [
        {
          "name": "stdout",
          "output_type": "stream",
          "text": [
            "no\n"
          ]
        }
      ],
      "source": [
        "if 1 > 2:\n",
        "    print('si')\n",
        "else:\n",
        "    print('no')"
      ]
    },
    {
      "cell_type": "code",
      "execution_count": null,
      "metadata": {
        "id": "GCAzzcqjRdL5",
        "outputId": "0c537a55-e868-49ae-c87a-489d59abcb5d"
      },
      "outputs": [
        {
          "name": "stdout",
          "output_type": "stream",
          "text": [
            "segunda rpta\n"
          ]
        }
      ],
      "source": [
        "if 1 == 2:\n",
        "    print('primera rpta')\n",
        "elif 3 == 3:\n",
        "    print('segunda rpta')\n",
        "else:\n",
        "    print('ultimas rpta')"
      ]
    },
    {
      "cell_type": "markdown",
      "metadata": {
        "id": "SWRVLFsvRdL5"
      },
      "source": [
        "## Bucle for"
      ]
    },
    {
      "cell_type": "code",
      "execution_count": null,
      "metadata": {
        "id": "EgsgXAgiRdL5"
      },
      "outputs": [],
      "source": [
        "seq = [1,2,3,4,5]"
      ]
    },
    {
      "cell_type": "code",
      "execution_count": null,
      "metadata": {
        "id": "ha6g3XD2RdL5",
        "outputId": "0ca5a4b7-2dd1-4937-8c4d-57541568d09c"
      },
      "outputs": [
        {
          "name": "stdout",
          "output_type": "stream",
          "text": [
            "1\n",
            "2\n",
            "3\n",
            "4\n",
            "5\n"
          ]
        }
      ],
      "source": [
        "for item in seq:\n",
        "    print(item)"
      ]
    },
    {
      "cell_type": "code",
      "execution_count": null,
      "metadata": {
        "id": "oF5tHNZQRdL6",
        "outputId": "7a036583-8677-425b-d11e-060c957921b0"
      },
      "outputs": [
        {
          "name": "stdout",
          "output_type": "stream",
          "text": [
            "hola\n",
            "hola\n",
            "hola\n",
            "hola\n",
            "hola\n"
          ]
        }
      ],
      "source": [
        "for item in seq:\n",
        "    print('hola')"
      ]
    },
    {
      "cell_type": "code",
      "execution_count": null,
      "metadata": {
        "id": "3JJkkBAhRdL6",
        "outputId": "1e4d25a6-873a-42e0-ea42-ebd345f90182"
      },
      "outputs": [
        {
          "name": "stdout",
          "output_type": "stream",
          "text": [
            "2\n",
            "4\n",
            "6\n",
            "8\n",
            "10\n"
          ]
        }
      ],
      "source": [
        "for j in seq:\n",
        "    print(j+j)"
      ]
    },
    {
      "cell_type": "markdown",
      "metadata": {
        "id": "hCQWsvsYRdL6"
      },
      "source": [
        "## Bucle while"
      ]
    },
    {
      "cell_type": "code",
      "execution_count": null,
      "metadata": {
        "id": "ad46z5Z7RdL6",
        "outputId": "63b3d660-5718-4778-bd51-b77f0e83c827"
      },
      "outputs": [
        {
          "name": "stdout",
          "output_type": "stream",
          "text": [
            "i es: 1\n",
            "i es: 2\n",
            "i es: 3\n",
            "i es: 4\n"
          ]
        }
      ],
      "source": [
        "i = 1\n",
        "while i < 5:\n",
        "    print('i es: {}'.format(i))\n",
        "    i = i+1"
      ]
    },
    {
      "cell_type": "markdown",
      "metadata": {
        "id": "nzPTrfP2RdL6"
      },
      "source": [
        "## range()"
      ]
    },
    {
      "cell_type": "code",
      "execution_count": null,
      "metadata": {
        "id": "xv4bRE_nRdL7",
        "outputId": "b2ee2f33-83e5-4979-f718-8e3d7631d969"
      },
      "outputs": [
        {
          "data": {
            "text/plain": [
              "range(0, 5)"
            ]
          },
          "execution_count": 88,
          "metadata": {},
          "output_type": "execute_result"
        }
      ],
      "source": [
        "range(5)"
      ]
    },
    {
      "cell_type": "code",
      "execution_count": null,
      "metadata": {
        "id": "Hn7zuN6FRdL7",
        "outputId": "b3c71cf9-905e-4164-c014-676a592351e3"
      },
      "outputs": [
        {
          "name": "stdout",
          "output_type": "stream",
          "text": [
            "0\n",
            "1\n",
            "2\n",
            "3\n",
            "4\n"
          ]
        }
      ],
      "source": [
        "for i in range(5):\n",
        "    print(i)"
      ]
    },
    {
      "cell_type": "code",
      "execution_count": null,
      "metadata": {
        "id": "67vFbyzMRdL7",
        "outputId": "1e298ecd-1d14-4b25-8582-70bdd3b2dadb"
      },
      "outputs": [
        {
          "data": {
            "text/plain": [
              "[0, 1, 2, 3, 4]"
            ]
          },
          "execution_count": 89,
          "metadata": {},
          "output_type": "execute_result"
        }
      ],
      "source": [
        "list(range(5))"
      ]
    },
    {
      "cell_type": "markdown",
      "metadata": {
        "id": "gwv64rJYRdL7"
      },
      "source": [
        "## Comprensión de listas"
      ]
    },
    {
      "cell_type": "code",
      "execution_count": null,
      "metadata": {
        "id": "VWkNg0FcRdL7"
      },
      "outputs": [],
      "source": [
        "x = [1,2,3,4]"
      ]
    },
    {
      "cell_type": "code",
      "execution_count": null,
      "metadata": {
        "id": "uWKWzYykRdL8",
        "outputId": "164a70b6-f89a-48f1-badb-36a07eda4a52"
      },
      "outputs": [
        {
          "name": "stdout",
          "output_type": "stream",
          "text": [
            "[1, 4, 9, 16]\n"
          ]
        }
      ],
      "source": [
        "out = []\n",
        "for item in x:\n",
        "    out.append(item**2)\n",
        "print(out)"
      ]
    },
    {
      "cell_type": "code",
      "execution_count": null,
      "metadata": {
        "id": "pNd69zQ6RdL8",
        "outputId": "486289fd-0ac1-4686-d48a-3303694d7a6d"
      },
      "outputs": [
        {
          "data": {
            "text/plain": [
              "[1, 4, 9, 16]"
            ]
          },
          "execution_count": 93,
          "metadata": {},
          "output_type": "execute_result"
        }
      ],
      "source": [
        "[item**2 for item in x]"
      ]
    },
    {
      "cell_type": "code",
      "execution_count": null,
      "metadata": {
        "id": "cquOhXekRdL8"
      },
      "outputs": [],
      "source": [
        "y = [item**2 for item in x]"
      ]
    },
    {
      "cell_type": "code",
      "execution_count": null,
      "metadata": {
        "id": "sp1-uoVhRdL8",
        "outputId": "053fb57a-d9ef-4945-91b2-bad8a7cde625"
      },
      "outputs": [
        {
          "data": {
            "text/plain": [
              "[1, 4, 9, 16]"
            ]
          },
          "execution_count": 96,
          "metadata": {},
          "output_type": "execute_result"
        }
      ],
      "source": [
        "y"
      ]
    },
    {
      "cell_type": "markdown",
      "metadata": {
        "id": "V4TxpJH0RdL8"
      },
      "source": [
        "## Funciones"
      ]
    },
    {
      "cell_type": "code",
      "execution_count": null,
      "metadata": {
        "id": "ej3Ia60lRdL8"
      },
      "outputs": [],
      "source": [
        "def my_func(param1='default'):\n",
        "    \"\"\"\n",
        "    Documentacion va aqui\n",
        "    \"\"\"\n",
        "    print(param1)"
      ]
    },
    {
      "cell_type": "code",
      "execution_count": null,
      "metadata": {
        "id": "dteiq5DyRdL9",
        "outputId": "2cf4bbf4-1199-40c7-aae1-e5d224976514"
      },
      "outputs": [
        {
          "data": {
            "text/plain": [
              "<function __main__.my_func(param1='default')>"
            ]
          },
          "execution_count": 98,
          "metadata": {},
          "output_type": "execute_result"
        }
      ],
      "source": [
        "my_func"
      ]
    },
    {
      "cell_type": "code",
      "execution_count": null,
      "metadata": {
        "id": "klRDV2DcRdL9",
        "outputId": "735d2325-70f1-4e3d-e869-2e4b78d00687"
      },
      "outputs": [
        {
          "name": "stdout",
          "output_type": "stream",
          "text": [
            "default\n"
          ]
        }
      ],
      "source": [
        "my_func()"
      ]
    },
    {
      "cell_type": "code",
      "execution_count": null,
      "metadata": {
        "id": "5_STDaXGRdL9",
        "outputId": "406a6c71-b412-4baa-87bb-6b74e78136ac"
      },
      "outputs": [
        {
          "name": "stdout",
          "output_type": "stream",
          "text": [
            "nuevo parametro\n"
          ]
        }
      ],
      "source": [
        "my_func('nuevo parametro')"
      ]
    },
    {
      "cell_type": "code",
      "execution_count": null,
      "metadata": {
        "id": "qBpBl8CVRdL9",
        "outputId": "f750b0c7-2435-4031-e007-951fb4654dc9"
      },
      "outputs": [
        {
          "name": "stdout",
          "output_type": "stream",
          "text": [
            "nuevo parametro\n"
          ]
        }
      ],
      "source": [
        "my_func(param1='nuevo parametro')"
      ]
    },
    {
      "cell_type": "code",
      "execution_count": null,
      "metadata": {
        "id": "Jq0ld9uoRdL9"
      },
      "outputs": [],
      "source": [
        "def square(x):\n",
        "    return x**2"
      ]
    },
    {
      "cell_type": "code",
      "execution_count": null,
      "metadata": {
        "id": "hlptZNxsRdL-"
      },
      "outputs": [],
      "source": [
        "out = square(2)"
      ]
    },
    {
      "cell_type": "code",
      "execution_count": null,
      "metadata": {
        "scrolled": true,
        "id": "3C0Ksw8wRdL-",
        "outputId": "240e47b3-6b74-4939-f7b4-3d8ad74edad2"
      },
      "outputs": [
        {
          "name": "stdout",
          "output_type": "stream",
          "text": [
            "4\n"
          ]
        }
      ],
      "source": [
        "print(out)"
      ]
    },
    {
      "cell_type": "markdown",
      "metadata": {
        "id": "fBZS4AfnRdL-"
      },
      "source": [
        "## Expresiones lambda"
      ]
    },
    {
      "cell_type": "code",
      "execution_count": null,
      "metadata": {
        "id": "a_xpbOr_RdL-"
      },
      "outputs": [],
      "source": [
        "def times2(var):\n",
        "    return var*2"
      ]
    },
    {
      "cell_type": "code",
      "execution_count": null,
      "metadata": {
        "id": "pg2kANWlRdL-",
        "outputId": "d8ec9bae-3089-46ed-8cdc-0aa409a12618"
      },
      "outputs": [
        {
          "data": {
            "text/plain": [
              "4"
            ]
          },
          "execution_count": 106,
          "metadata": {},
          "output_type": "execute_result"
        }
      ],
      "source": [
        "times2(2)"
      ]
    },
    {
      "cell_type": "code",
      "execution_count": null,
      "metadata": {
        "id": "I94yCyW1RdL_",
        "outputId": "4a9dc01d-52c4-4e04-e19f-75e5024fe078"
      },
      "outputs": [
        {
          "data": {
            "text/plain": [
              "<function __main__.<lambda>(var)>"
            ]
          },
          "execution_count": 109,
          "metadata": {},
          "output_type": "execute_result"
        }
      ],
      "source": [
        "lambda var: var*2"
      ]
    },
    {
      "cell_type": "markdown",
      "metadata": {
        "id": "6k22smhVRdL_"
      },
      "source": [
        "## map y filter"
      ]
    },
    {
      "cell_type": "code",
      "execution_count": null,
      "metadata": {
        "id": "a6Nt6QPLRdL_"
      },
      "outputs": [],
      "source": [
        "seq = [1,2,3,4,5]"
      ]
    },
    {
      "cell_type": "code",
      "execution_count": null,
      "metadata": {
        "id": "XNYXNB23RdL_",
        "outputId": "bafb11b0-4d4c-47fa-82cc-76c290f89860"
      },
      "outputs": [
        {
          "data": {
            "text/plain": [
              "<map at 0x14162624370>"
            ]
          },
          "execution_count": 111,
          "metadata": {},
          "output_type": "execute_result"
        }
      ],
      "source": [
        "map(times2,seq)"
      ]
    },
    {
      "cell_type": "code",
      "execution_count": null,
      "metadata": {
        "id": "dh7ndC-mRdL_",
        "outputId": "30fa33e6-9f47-464e-be17-6bdafb64b5d4"
      },
      "outputs": [
        {
          "data": {
            "text/plain": [
              "[2, 4, 6, 8, 10]"
            ]
          },
          "execution_count": 85,
          "metadata": {},
          "output_type": "execute_result"
        }
      ],
      "source": [
        "list(map(times2,seq))"
      ]
    },
    {
      "cell_type": "code",
      "execution_count": null,
      "metadata": {
        "id": "5ocUnO3jRdL_",
        "outputId": "6f6129e8-a78c-411c-feb1-001afd35c990"
      },
      "outputs": [
        {
          "data": {
            "text/plain": [
              "[2, 4, 6, 8, 10]"
            ]
          },
          "execution_count": 86,
          "metadata": {},
          "output_type": "execute_result"
        }
      ],
      "source": [
        "list(map(lambda var: var*2,seq))"
      ]
    },
    {
      "cell_type": "code",
      "execution_count": null,
      "metadata": {
        "id": "BfYzojhARdMA",
        "outputId": "7851ff9c-68e3-4120-dcfb-6b8b6b112fc2"
      },
      "outputs": [
        {
          "data": {
            "text/plain": [
              "<filter at 0x105316ac8>"
            ]
          },
          "execution_count": 87,
          "metadata": {},
          "output_type": "execute_result"
        }
      ],
      "source": [
        "filter(lambda item: item%2 == 0,seq)"
      ]
    },
    {
      "cell_type": "code",
      "execution_count": null,
      "metadata": {
        "id": "tz166RSNRdMA",
        "outputId": "df5362dc-d263-48da-8546-d9f5ff3692df"
      },
      "outputs": [
        {
          "data": {
            "text/plain": [
              "[2, 4]"
            ]
          },
          "execution_count": 88,
          "metadata": {},
          "output_type": "execute_result"
        }
      ],
      "source": [
        "list(filter(lambda item: item%2 == 0,seq))"
      ]
    },
    {
      "cell_type": "markdown",
      "metadata": {
        "id": "GftapDfjRdMA"
      },
      "source": [
        "## Metodos"
      ]
    },
    {
      "cell_type": "code",
      "execution_count": null,
      "metadata": {
        "id": "e_dIMBVURdMA"
      },
      "outputs": [],
      "source": [
        "st = 'Hola mi nombre es Pat'"
      ]
    },
    {
      "cell_type": "code",
      "execution_count": null,
      "metadata": {
        "id": "5iTCsibMRdMA",
        "outputId": "010472e2-61e0-4ac3-b26c-5d06c5f62ce2"
      },
      "outputs": [
        {
          "data": {
            "text/plain": [
              "'hola mi nombre es pat'"
            ]
          },
          "execution_count": 119,
          "metadata": {},
          "output_type": "execute_result"
        }
      ],
      "source": [
        "st.lower()"
      ]
    },
    {
      "cell_type": "code",
      "execution_count": null,
      "metadata": {
        "id": "3TxeYO7qRdMB",
        "outputId": "15d1b9c9-3ab0-4e9e-b888-b178bfbfc4ee"
      },
      "outputs": [
        {
          "data": {
            "text/plain": [
              "'HOLA MI NOMBRE ES PAT'"
            ]
          },
          "execution_count": 120,
          "metadata": {},
          "output_type": "execute_result"
        }
      ],
      "source": [
        "st.upper()"
      ]
    },
    {
      "cell_type": "code",
      "execution_count": null,
      "metadata": {
        "id": "66CFGCZ3RdMB",
        "outputId": "dcc33711-a777-41a6-9e2b-b9cc92a8f6b9"
      },
      "outputs": [
        {
          "data": {
            "text/plain": [
              "['Hola', 'mi', 'nombre', 'es', 'Pat']"
            ]
          },
          "execution_count": 121,
          "metadata": {},
          "output_type": "execute_result"
        }
      ],
      "source": [
        "st.split()"
      ]
    },
    {
      "cell_type": "code",
      "execution_count": null,
      "metadata": {
        "id": "kustOFw1RdMB"
      },
      "outputs": [],
      "source": [
        "tweet = 'Vamos Peru! #SiSePuede'"
      ]
    },
    {
      "cell_type": "code",
      "execution_count": null,
      "metadata": {
        "id": "mkHXAdRYRdMB",
        "outputId": "780c1b54-47ce-4ce7-bea0-1d1e7151146b"
      },
      "outputs": [
        {
          "data": {
            "text/plain": [
              "['Vamos Peru! ', 'SiSePuede']"
            ]
          },
          "execution_count": 123,
          "metadata": {},
          "output_type": "execute_result"
        }
      ],
      "source": [
        "tweet.split('#')"
      ]
    },
    {
      "cell_type": "code",
      "execution_count": null,
      "metadata": {
        "id": "txgovX8ORdMC",
        "outputId": "cdaa9f68-fa29-4a7a-ac20-5718a87bd05c"
      },
      "outputs": [
        {
          "data": {
            "text/plain": [
              "'SiSePuede'"
            ]
          },
          "execution_count": 124,
          "metadata": {},
          "output_type": "execute_result"
        }
      ],
      "source": [
        "tweet.split('#')[1]"
      ]
    },
    {
      "cell_type": "code",
      "execution_count": null,
      "metadata": {
        "id": "yNjdWCuxRdMC",
        "outputId": "508a721a-a45d-45fe-c54a-902a5f0fc759"
      },
      "outputs": [
        {
          "data": {
            "text/plain": [
              "{'key1': ['item1', 'item2', 'item3'], 'key2': 'item2'}"
            ]
          },
          "execution_count": 125,
          "metadata": {},
          "output_type": "execute_result"
        }
      ],
      "source": [
        "d"
      ]
    },
    {
      "cell_type": "code",
      "execution_count": null,
      "metadata": {
        "id": "FmmUma5TRdMC",
        "outputId": "db0a3a1e-09da-45bb-b440-9490a3296d6b"
      },
      "outputs": [
        {
          "data": {
            "text/plain": [
              "dict_keys(['key1', 'key2'])"
            ]
          },
          "execution_count": 126,
          "metadata": {},
          "output_type": "execute_result"
        }
      ],
      "source": [
        "d.keys()"
      ]
    },
    {
      "cell_type": "code",
      "execution_count": null,
      "metadata": {
        "id": "peb4zAHJRdMD",
        "outputId": "08a383e0-f7ea-4c43-fef2-812fe9ba1ad1"
      },
      "outputs": [
        {
          "data": {
            "text/plain": [
              "dict_items([('key1', ['item1', 'item2', 'item3']), ('key2', 'item2')])"
            ]
          },
          "execution_count": 127,
          "metadata": {},
          "output_type": "execute_result"
        }
      ],
      "source": [
        "d.items()"
      ]
    },
    {
      "cell_type": "code",
      "execution_count": null,
      "metadata": {
        "id": "MFrntGuKRdMD"
      },
      "outputs": [],
      "source": [
        "lst = [1,2,3]"
      ]
    },
    {
      "cell_type": "code",
      "execution_count": null,
      "metadata": {
        "id": "r84zrEw2RdMD",
        "outputId": "24a25f30-06f6-401f-8449-fac63515d376"
      },
      "outputs": [
        {
          "data": {
            "text/plain": [
              "3"
            ]
          },
          "execution_count": 129,
          "metadata": {},
          "output_type": "execute_result"
        }
      ],
      "source": [
        "\"\"\"\n",
        "Remueve un item de una lista.  Si no se especifica, elimina el ultimo (index = -1)\n",
        "\"\"\"\n",
        "lst.pop()"
      ]
    },
    {
      "cell_type": "code",
      "execution_count": null,
      "metadata": {
        "id": "yrdBkWIARdMD",
        "outputId": "021b86e1-8ce9-4cb6-dd93-dabe2c58aafa"
      },
      "outputs": [
        {
          "data": {
            "text/plain": [
              "[1, 2]"
            ]
          },
          "execution_count": 131,
          "metadata": {},
          "output_type": "execute_result"
        }
      ],
      "source": [
        "lst"
      ]
    },
    {
      "cell_type": "code",
      "execution_count": null,
      "metadata": {
        "id": "YYFmwWa7RdMD",
        "outputId": "1037a078-be9f-4674-8d94-379ed38a3e61"
      },
      "outputs": [
        {
          "data": {
            "text/plain": [
              "False"
            ]
          },
          "execution_count": 132,
          "metadata": {},
          "output_type": "execute_result"
        }
      ],
      "source": [
        "'x' in [1,2,3]"
      ]
    },
    {
      "cell_type": "code",
      "execution_count": null,
      "metadata": {
        "id": "bv6D4VT9RdME",
        "outputId": "b2d1c209-c5c3-439f-be1e-33547d57cae2"
      },
      "outputs": [
        {
          "data": {
            "text/plain": [
              "True"
            ]
          },
          "execution_count": 133,
          "metadata": {},
          "output_type": "execute_result"
        }
      ],
      "source": [
        "'x' in ['x','y','z']"
      ]
    },
    {
      "cell_type": "markdown",
      "metadata": {
        "id": "aQAbyBw_RdME"
      },
      "source": [
        "# Si llegaste hasta aqui, buen trabajo!\n",
        "Una guia mas completa se puede consultar en https://www.w3schools.com/python/python_operators.asp"
      ]
    }
  ],
  "metadata": {
    "kernelspec": {
      "display_name": "Python 3",
      "language": "python",
      "name": "python3"
    },
    "language_info": {
      "codemirror_mode": {
        "name": "ipython",
        "version": 3
      },
      "file_extension": ".py",
      "mimetype": "text/x-python",
      "name": "python",
      "nbconvert_exporter": "python",
      "pygments_lexer": "ipython3",
      "version": "3.8.5"
    },
    "colab": {
      "name": "01-Python-Basico.ipynb",
      "provenance": []
    }
  },
  "nbformat": 4,
  "nbformat_minor": 0
}