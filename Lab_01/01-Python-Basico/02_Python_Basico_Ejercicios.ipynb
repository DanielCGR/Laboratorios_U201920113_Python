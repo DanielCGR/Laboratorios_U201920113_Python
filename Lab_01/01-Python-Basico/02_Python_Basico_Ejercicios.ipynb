{
  "cells": [
    {
      "cell_type": "markdown",
      "metadata": {
        "id": "view-in-github",
        "colab_type": "text"
      },
      "source": [
        "<a href=\"https://colab.research.google.com/github/DanielCGR/Laboratorios_U201920113_Python/blob/main/Lab_01/01-Python-Basico/02_Python_Basico_Ejercicios.ipynb\" target=\"_parent\"><img src=\"https://colab.research.google.com/assets/colab-badge.svg\" alt=\"Open In Colab\"/></a>"
      ]
    },
    {
      "cell_type": "markdown",
      "metadata": {
        "id": "wZZR73q1Vsuo"
      },
      "source": [
        "___\n",
        "\n",
        "<a href='https://jupyter-notebook.readthedocs.io/en/stable/examples/Notebook/Running%20Code.html'> <img src='https://www.python.org/static/img/python-logo.png' /></a>\n",
        "___\n",
        "# Python Basico - Ejercicios\n",
        "\n"
      ]
    },
    {
      "cell_type": "markdown",
      "metadata": {
        "id": "RTcYPzuTVsut"
      },
      "source": [
        "## Ejercicios\n",
        "\n",
        "Responda las preguntas o complete las tareas descritas en negrita a continuación, use el método específico descrito si corresponde."
      ]
    },
    {
      "cell_type": "markdown",
      "metadata": {
        "id": "GbOLa_52Vsuu"
      },
      "source": [
        "** ¿Cuánto es 7 elevado a 4?**"
      ]
    },
    {
      "cell_type": "code",
      "execution_count": 1,
      "metadata": {
        "colab": {
          "base_uri": "https://localhost:8080/"
        },
        "id": "yysH83sIVsuv",
        "outputId": "116914a8-0228-4640-d477-9ef8939b1df0"
      },
      "outputs": [
        {
          "output_type": "execute_result",
          "data": {
            "text/plain": [
              "2401"
            ]
          },
          "metadata": {},
          "execution_count": 1
        }
      ],
      "source": [
        "7**4"
      ]
    },
    {
      "cell_type": "markdown",
      "metadata": {
        "id": "jyCX1nEOVsuw"
      },
      "source": [
        "** Divida esta cadena:**\n",
        "\n",
        "    s = \"Hola mi estimado!\"\n",
        "    \n",
        "**en una lista. **"
      ]
    },
    {
      "cell_type": "code",
      "execution_count": 2,
      "metadata": {
        "id": "WpkuKxmwVsux"
      },
      "outputs": [],
      "source": [
        "s = \"Hola mi estimado!\""
      ]
    },
    {
      "cell_type": "code",
      "execution_count": 4,
      "metadata": {
        "colab": {
          "base_uri": "https://localhost:8080/"
        },
        "id": "Tp_uShc7Vsux",
        "outputId": "8eb2810e-4e12-4921-d1c0-6d04dea36c5b"
      },
      "outputs": [
        {
          "output_type": "execute_result",
          "data": {
            "text/plain": [
              "['Hola', 'mi', 'estimado!']"
            ]
          },
          "metadata": {},
          "execution_count": 4
        }
      ],
      "source": [
        "s.split()"
      ]
    },
    {
      "cell_type": "markdown",
      "metadata": {
        "id": "QnWL-9xBVsuy"
      },
      "source": [
        "** Dadas las variables:**\n",
        "\n",
        "    planeta = \"Tierra\"\n",
        "    diametro = 12742\n",
        "\n",
        "** Use .format() para visualizar la siguente frase: **\n",
        "\n",
        "    El diametro de la Tierra es 12742 kilometros."
      ]
    },
    {
      "cell_type": "code",
      "execution_count": 5,
      "metadata": {
        "id": "fYW9DrrlVsuz"
      },
      "outputs": [],
      "source": [
        "planeta = \"Tierra\"\n",
        "diametro = 12742"
      ]
    },
    {
      "cell_type": "code",
      "execution_count": 8,
      "metadata": {
        "colab": {
          "base_uri": "https://localhost:8080/"
        },
        "id": "UXfQS2KBVsu0",
        "outputId": "c5ea4ba9-94cd-4702-ec4a-b9ce97ef955b"
      },
      "outputs": [
        {
          "output_type": "stream",
          "name": "stdout",
          "text": [
            "El diametro de la Tierra es 12742 kilometros.\n"
          ]
        }
      ],
      "source": [
        "print('El diametro de la {} es {} kilometros.'.format(planeta,diametro))"
      ]
    },
    {
      "cell_type": "markdown",
      "metadata": {
        "id": "9EhxvRP3Vsu0"
      },
      "source": [
        "** Dada esta lista anidada, use la indexación para obtener la palabra \"hola\"**"
      ]
    },
    {
      "cell_type": "code",
      "execution_count": 10,
      "metadata": {
        "id": "FzLR98XuVsu1"
      },
      "outputs": [],
      "source": [
        "lst = [1,2,[3,4],[5,[100,200,['hola']],23,11],1,7]"
      ]
    },
    {
      "cell_type": "code",
      "execution_count": 17,
      "metadata": {
        "colab": {
          "base_uri": "https://localhost:8080/",
          "height": 36
        },
        "id": "NFGW5LJAVsu1",
        "outputId": "f0f0c9f1-1876-497e-a762-e3b5ccb1fa72"
      },
      "outputs": [
        {
          "output_type": "execute_result",
          "data": {
            "text/plain": [
              "'hola'"
            ],
            "application/vnd.google.colaboratory.intrinsic+json": {
              "type": "string"
            }
          },
          "metadata": {},
          "execution_count": 17
        }
      ],
      "source": [
        "first = lst[3]\n",
        "second = first[1]\n",
        "third = second[2]\n",
        "third[0]"
      ]
    },
    {
      "cell_type": "markdown",
      "metadata": {
        "id": "jlranDbBVsu2"
      },
      "source": [
        "** Dado este diccionario nido, tome la palabra \"hola\". Esté preparado, esto será molesto / complicado  **"
      ]
    },
    {
      "cell_type": "code",
      "execution_count": 18,
      "metadata": {
        "id": "H-9b3whwVsu2"
      },
      "outputs": [],
      "source": [
        "d = {'k1':[1,2,3,{'dificil':['oh','man','inicio',{'destino':[1,2,3,'hola']}]}]}"
      ]
    },
    {
      "cell_type": "code",
      "execution_count": 25,
      "metadata": {
        "colab": {
          "base_uri": "https://localhost:8080/",
          "height": 36
        },
        "id": "l2dXlrlfVsu2",
        "outputId": "59454c65-50b2-4a22-846b-ca796dcbe129"
      },
      "outputs": [
        {
          "output_type": "execute_result",
          "data": {
            "text/plain": [
              "'hola'"
            ],
            "application/vnd.google.colaboratory.intrinsic+json": {
              "type": "string"
            }
          },
          "metadata": {},
          "execution_count": 25
        }
      ],
      "source": [
        "a = d['k1']\n",
        "b = a[3]\n",
        "c = b['dificil']\n",
        "e = c[3]\n",
        "f = e['destino']\n",
        "f[3]"
      ]
    },
    {
      "cell_type": "markdown",
      "metadata": {
        "id": "l30PmADqVsu3"
      },
      "source": [
        "** ¿Cuál es la principal diferencia entre una tupla y una lista? **"
      ]
    },
    {
      "cell_type": "code",
      "execution_count": 26,
      "metadata": {
        "id": "K5_avp2FVsu3"
      },
      "outputs": [],
      "source": [
        "#Las tuplas son inmutables, contienen valores estáticos."
      ]
    },
    {
      "cell_type": "markdown",
      "metadata": {
        "id": "RPLQ5tVyVsu3"
      },
      "source": [
        "** Cree una función que tome el dominio del sitio web de correo electrónico a partir de una cadena con el siguiente formato: **\n",
        "\n",
        "    user@dominio.com\n",
        "    \n",
        "**Entonces, por ejemplo, pasando \"user@domain.com\" retornaria: domain.com**"
      ]
    },
    {
      "cell_type": "code",
      "execution_count": 35,
      "metadata": {
        "id": "c22JwUGXVsu4"
      },
      "outputs": [],
      "source": [
        "def dominioGet(x):\n",
        "  dominio = x\n",
        "  fin = dominio.split('@')[1]\n",
        "  return fin"
      ]
    },
    {
      "cell_type": "code",
      "execution_count": 36,
      "metadata": {
        "colab": {
          "base_uri": "https://localhost:8080/",
          "height": 36
        },
        "id": "oDjcx4MzVsu4",
        "outputId": "d699bb26-49ef-405d-82ec-ffc2109c67d9"
      },
      "outputs": [
        {
          "output_type": "execute_result",
          "data": {
            "text/plain": [
              "'dominio.com'"
            ],
            "application/vnd.google.colaboratory.intrinsic+json": {
              "type": "string"
            }
          },
          "metadata": {},
          "execution_count": 36
        }
      ],
      "source": [
        "dominioGet('user@dominio.com')"
      ]
    },
    {
      "cell_type": "markdown",
      "metadata": {
        "id": "Ht2CrF0JVsu4"
      },
      "source": [
        "** Cree una función básica que devuelva Verdadero si la palabra 'perro' está contenida en la cadena de entrada. No se preocupe por casos extremos como una puntuación que se adjunta a la palabra perro, pero tenga en cuenta las mayúsculas. **"
      ]
    },
    {
      "cell_type": "code",
      "execution_count": 47,
      "metadata": {
        "id": "K2k8r1hhVsu5"
      },
      "outputs": [],
      "source": [
        "def ubicaDog(x):\n",
        "  dog = x.split()\n",
        "  if \"perro\" or \"Perro\" in dog:\n",
        "    boolean = True\n",
        "  else:\n",
        "    boolean = False\n",
        "  return boolean\n"
      ]
    },
    {
      "cell_type": "code",
      "execution_count": 48,
      "metadata": {
        "colab": {
          "base_uri": "https://localhost:8080/"
        },
        "id": "InfrE0yHVsu5",
        "outputId": "1909dfc6-eaec-4352-baa3-35f1a47742db"
      },
      "outputs": [
        {
          "output_type": "execute_result",
          "data": {
            "text/plain": [
              "True"
            ]
          },
          "metadata": {},
          "execution_count": 48
        }
      ],
      "source": [
        "ubicaDog('Esta el perro aqui?')"
      ]
    },
    {
      "cell_type": "markdown",
      "metadata": {
        "id": "FLVGYIseVsu5"
      },
      "source": [
        "** Cree una función que cuente el número de veces que aparece la palabra \"perro\" en una cadena. Nuevamente ignore los casos extremos. **"
      ]
    },
    {
      "cell_type": "code",
      "execution_count": 57,
      "metadata": {
        "id": "G0xhLd6BVsu6"
      },
      "outputs": [],
      "source": [
        "def cuentaDog(x):\n",
        "  dog = x.split()\n",
        "  c = 0\n",
        "  for i in range(len(dog)):\n",
        "    pet = dog[i]\n",
        "    if \"perro\" in pet:\n",
        "      c+=1\n",
        "  return c"
      ]
    },
    {
      "cell_type": "code",
      "execution_count": 60,
      "metadata": {
        "colab": {
          "base_uri": "https://localhost:8080/"
        },
        "id": "Q-laOJJWVsu6",
        "outputId": "c58250b0-ce46-4a76-9c34-f03aa8d6858d"
      },
      "outputs": [
        {
          "output_type": "execute_result",
          "data": {
            "text/plain": [
              "2"
            ]
          },
          "metadata": {},
          "execution_count": 60
        }
      ],
      "source": [
        "cuentaDog('Este perro corre mas rapido que este otro perro no lo dudes!')"
      ]
    },
    {
      "cell_type": "markdown",
      "metadata": {
        "id": "iY1TzwjsVsu6"
      },
      "source": [
        "** Utilice expresiones lambda y la función filter () para filtrar las palabras de una lista que comiencen con la letra 's'. Por ejemplo:**\n",
        "\n",
        "    seq = ['sopa','perro','salida','gato','excelente']\n",
        "\n",
        "**debe filtrarse solo:**\n",
        "\n",
        "    ['sopa','salida']"
      ]
    },
    {
      "cell_type": "code",
      "execution_count": 62,
      "metadata": {
        "id": "v00YMc36Vsu7"
      },
      "outputs": [],
      "source": [
        "seq = ['sopa','perro','salida','gato','excelente']"
      ]
    },
    {
      "cell_type": "code",
      "execution_count": 66,
      "metadata": {
        "colab": {
          "base_uri": "https://localhost:8080/"
        },
        "id": "MEI4z7MAVsu7",
        "outputId": "0d8f140c-f4b1-4ecf-997c-d3b08ef27ac0"
      },
      "outputs": [
        {
          "output_type": "execute_result",
          "data": {
            "text/plain": [
              "['sopa', 'salida']"
            ]
          },
          "metadata": {},
          "execution_count": 66
        }
      ],
      "source": [
        "list(filter(lambda x: x[0].lower() in 's', seq))"
      ]
    },
    {
      "cell_type": "markdown",
      "metadata": {
        "id": "PPilMMXcVsu7"
      },
      "source": [
        "### Ejercicio Final\n",
        "**Conduces demasiado rápido y un policía te detiene. Escribe una función para devolver uno de los 3 resultados posibles: \"Sin papeleta\", \"Papeleta NO GRAVE\" o \"Papeleta GRAVE\".\n",
        "   Si tu velocidad es de 60 o menos, el resultado es \"Sin papeleta\". Si la velocidad está entre 61\n",
        "   y 80 inclusive, el resultado es \"Papeleta NO GRAVE\". Si la velocidad es 81 o más, el resultado es \"Papeleta GRAVE\". A menos que sea tu cumpleaños (codificado como un valor booleano en los parámetros de la función), en tu cumpleaños, la velocidad puede ser 5 más alta en total de casos. **"
      ]
    },
    {
      "cell_type": "code",
      "execution_count": 78,
      "metadata": {
        "id": "KHRbPdgPVsu8"
      },
      "outputs": [],
      "source": [
        "def calcula_velocidad(velocidad, es_mi_cumple):\n",
        "  papeleta = [\"Sin papeleta\", \"Papeleta NO GRAVE\", \"Papeleta GRAVE\"]\n",
        "  if es_mi_cumple == False:\n",
        "    if (velocidad <= 60):\n",
        "      print(papeleta[0])\n",
        "    elif (velocidad > 60 and velocidad <= 80):\n",
        "      print(papeleta[1])\n",
        "    elif velocidad > 80:\n",
        "      print(papeleta[2])\n",
        "  elif es_mi_cumple == True:\n",
        "    new_velocidad = velocidad * 5\n",
        "    calcula_velocidad(new_velocidad, False)"
      ]
    },
    {
      "cell_type": "code",
      "execution_count": 86,
      "metadata": {
        "colab": {
          "base_uri": "https://localhost:8080/"
        },
        "id": "NWq-szO7Vsu8",
        "outputId": "ca127769-aac6-43f1-f5bb-c9891a9eda7f"
      },
      "outputs": [
        {
          "output_type": "stream",
          "name": "stdout",
          "text": [
            "Papeleta NO GRAVE\n"
          ]
        }
      ],
      "source": [
        "calcula_velocidad(15,True)"
      ]
    },
    {
      "cell_type": "code",
      "execution_count": 83,
      "metadata": {
        "colab": {
          "base_uri": "https://localhost:8080/"
        },
        "id": "U9HVfFQaVsu8",
        "outputId": "aabc4515-4e93-4805-9cc6-22458407b6e0"
      },
      "outputs": [
        {
          "output_type": "stream",
          "name": "stdout",
          "text": [
            "Papeleta GRAVE\n"
          ]
        }
      ],
      "source": [
        "calcula_velocidad(81,False)"
      ]
    },
    {
      "cell_type": "markdown",
      "metadata": {
        "id": "RoKigI-BVsu9"
      },
      "source": [
        "# Buen trabajo!"
      ]
    }
  ],
  "metadata": {
    "kernelspec": {
      "display_name": "Python 3",
      "language": "python",
      "name": "python3"
    },
    "language_info": {
      "codemirror_mode": {
        "name": "ipython",
        "version": 3
      },
      "file_extension": ".py",
      "mimetype": "text/x-python",
      "name": "python",
      "nbconvert_exporter": "python",
      "pygments_lexer": "ipython3",
      "version": "3.8.5"
    },
    "colab": {
      "name": "02-Python-Basico-Ejercicios.ipynb",
      "provenance": [],
      "include_colab_link": true
    }
  },
  "nbformat": 4,
  "nbformat_minor": 0
}