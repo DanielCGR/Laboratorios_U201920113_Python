{
  "cells": [
    {
      "cell_type": "markdown",
      "metadata": {
        "id": "view-in-github",
        "colab_type": "text"
      },
      "source": [
        "<a href=\"https://colab.research.google.com/github/DanielCGR/Laboratorios_U201920113_Python/blob/main/Lab_01/02-Python-para-Analisis-de-Datos-NumPy/01_NumPy_Arreglos.ipynb\" target=\"_parent\"><img src=\"https://colab.research.google.com/assets/colab-badge.svg\" alt=\"Open In Colab\"/></a>"
      ]
    },
    {
      "cell_type": "markdown",
      "metadata": {
        "id": "W-zavpb98aYD"
      },
      "source": [
        "___\n",
        "\n",
        "<a href='https://jupyter-notebook.readthedocs.io/en/stable/examples/Notebook/Running%20Code.html'> <img src='https://www.python.org/static/img/python-logo.png' /></a>\n",
        "___"
      ]
    },
    {
      "cell_type": "markdown",
      "metadata": {
        "id": "vf_JVh628aYS"
      },
      "source": [
        "# NumPy \n",
        "\n",
        "NumPy (o Numpy) es una biblioteca de álgebra lineal para Python, la razón por la que es tan importante para la ciencia de datos con Python es que casi todas las bibliotecas del ecosistema PyData se basan en NumPy como uno de sus principales bloques de construcción.\n",
        "\n",
        "Numpy también es increíblemente rápido, ya que tiene enlaces a bibliotecas C.\n",
        "Solo aprenderemos los conceptos básicos de NumPy, ¡para comenzar necesitamos instalarlo!"
      ]
    },
    {
      "cell_type": "markdown",
      "metadata": {
        "id": "8J5VORFD8aYV"
      },
      "source": [
        "## Instrucciones de instalación\n",
        "\n",
        "\n",
        "\n",
        "**Se recomienda encarecidamente que instale Python utilizando la distribución de Anaconda para asegurarse de que todas las dependencias subyacentes (como las bibliotecas de Álgebra lineal) se sincronicen con el uso de una instalación de conda. Si tiene Anaconda, instale NumPy yendo a su terminal o símbolo del sistema y escribiendo:**\n",
        "    \n",
        "    conda install numpy\n",
        "    \n",
        "**Si no tiene Anaconda y no puede instalarlo, consulte la documentación oficial de Numpy en varias instrucciones de instalación. [Numpy's official documentation on various installation instructions.](http://docs.scipy.org/doc/numpy-1.10.1/user/install.html)**"
      ]
    },
    {
      "cell_type": "markdown",
      "metadata": {
        "id": "Y100Xu-l8aYW"
      },
      "source": [
        "## Usando NumPy\n",
        "\n",
        "Una vez que haya instalado NumPy, puede importarlo como una biblioteca:"
      ]
    },
    {
      "cell_type": "code",
      "execution_count": null,
      "metadata": {
        "id": "KMz_s0q88aYX"
      },
      "outputs": [],
      "source": [
        "import numpy as np"
      ]
    },
    {
      "cell_type": "markdown",
      "metadata": {
        "id": "k7ReRdVK8aYa"
      },
      "source": [
        "Numpy tiene muchas funciones y capacidades integradas. No los cubriremos todos, sino que nos centraremos en algunos de los aspectos más importantes de Numpy: vectores, matrices, matrices y generación de números. Comencemos discutiendo las matrices.\n",
        "\n",
        "# Numpy Arrays\n",
        "\n",
        "Las matrices NumPy son la principal forma en que usaremos Numpy a lo largo del curso. Los arreglos Numpy vienen esencialmente en dos formas: vectores y matrices. Los vectores son matrices estrictamente 1-d y las matrices son 2-d (pero debe tener en cuenta que una matriz todavía puede tener solo una fila o una columna).\n",
        "\n",
        "Comencemos nuestra introducción explorando cómo crear matrices NumPy.\n",
        "\n",
        "## Creando NumPy Arrays\n",
        "\n",
        "### Desde una Lista de Python\n",
        "\n",
        "Podemos crear una matriz convirtiendo directamente una lista o lista de listas:"
      ]
    },
    {
      "cell_type": "code",
      "execution_count": null,
      "metadata": {
        "id": "Sem77iPP8aYb",
        "outputId": "ad0bd3de-15ea-416d-dab9-b162e7bc64a0"
      },
      "outputs": [
        {
          "data": {
            "text/plain": [
              "[1, 2, 3]"
            ]
          },
          "execution_count": 4,
          "metadata": {},
          "output_type": "execute_result"
        }
      ],
      "source": [
        "my_list = [1,2,3]\n",
        "my_list"
      ]
    },
    {
      "cell_type": "code",
      "execution_count": null,
      "metadata": {
        "id": "uTtwdC_I8aYd",
        "outputId": "21b3c6ac-77db-4eb9-b10f-ce7507c426a6"
      },
      "outputs": [
        {
          "data": {
            "text/plain": [
              "array([1, 2, 3])"
            ]
          },
          "execution_count": 5,
          "metadata": {},
          "output_type": "execute_result"
        }
      ],
      "source": [
        "np.array(my_list)"
      ]
    },
    {
      "cell_type": "code",
      "execution_count": null,
      "metadata": {
        "id": "CUBtoubi8aYi",
        "outputId": "06ddad2a-50e0-4492-f70b-8b3548aea79e"
      },
      "outputs": [
        {
          "data": {
            "text/plain": [
              "[[1, 2, 3], [4, 5, 6], [7, 8, 9]]"
            ]
          },
          "execution_count": 6,
          "metadata": {},
          "output_type": "execute_result"
        }
      ],
      "source": [
        "my_matrix = [[1,2,3],[4,5,6],[7,8,9]]\n",
        "my_matrix"
      ]
    },
    {
      "cell_type": "code",
      "execution_count": null,
      "metadata": {
        "id": "dbOrmx3g8aYj",
        "outputId": "ad0dd06a-d40e-4e40-b210-5d8a80bdd707"
      },
      "outputs": [
        {
          "data": {
            "text/plain": [
              "array([[1, 2, 3],\n",
              "       [4, 5, 6],\n",
              "       [7, 8, 9]])"
            ]
          },
          "execution_count": 8,
          "metadata": {},
          "output_type": "execute_result"
        }
      ],
      "source": [
        "np.array(my_matrix)"
      ]
    },
    {
      "cell_type": "markdown",
      "metadata": {
        "id": "5-a5pnu_8aYl"
      },
      "source": [
        "## Built-in Methods\n",
        "\n",
        "Hay muchas formas integradas de generar matrices."
      ]
    },
    {
      "cell_type": "markdown",
      "metadata": {
        "id": "LIvFmPtd8aYm"
      },
      "source": [
        "### arange\n",
        "\n",
        "Devuelve valores espaciados uniformemente dentro de un intervalo dado."
      ]
    },
    {
      "cell_type": "code",
      "execution_count": null,
      "metadata": {
        "id": "NKhwiW0L8aYn",
        "outputId": "d2a5b858-17db-42d4-f701-7feb7a68e601"
      },
      "outputs": [
        {
          "data": {
            "text/plain": [
              "array([0, 1, 2, 3, 4, 5, 6, 7, 8, 9])"
            ]
          },
          "execution_count": 22,
          "metadata": {},
          "output_type": "execute_result"
        }
      ],
      "source": [
        "np.arange(0,10)"
      ]
    },
    {
      "cell_type": "code",
      "execution_count": null,
      "metadata": {
        "id": "5R-z8DCq8aYr",
        "outputId": "765bea7e-5dcf-4863-ce25-36ed13c756fc"
      },
      "outputs": [
        {
          "data": {
            "text/plain": [
              "array([ 0,  2,  4,  6,  8, 10])"
            ]
          },
          "execution_count": 23,
          "metadata": {},
          "output_type": "execute_result"
        }
      ],
      "source": [
        "np.arange(0,11,2)"
      ]
    },
    {
      "cell_type": "markdown",
      "metadata": {
        "id": "cV7awGeo8aYr"
      },
      "source": [
        "### zeros and ones\n",
        "\n",
        "Generar matrices de ceros o unos"
      ]
    },
    {
      "cell_type": "code",
      "execution_count": null,
      "metadata": {
        "id": "gUv4pzCq8aYs",
        "outputId": "845b3f34-339c-4748-f53f-bb5c5bcd032f"
      },
      "outputs": [
        {
          "data": {
            "text/plain": [
              "array([ 0.,  0.,  0.])"
            ]
          },
          "execution_count": 24,
          "metadata": {},
          "output_type": "execute_result"
        }
      ],
      "source": [
        "np.zeros(3)"
      ]
    },
    {
      "cell_type": "code",
      "execution_count": null,
      "metadata": {
        "id": "q2HR4BAC8aYt",
        "outputId": "f426a65e-eb68-4425-d310-98df2a0ab49e"
      },
      "outputs": [
        {
          "data": {
            "text/plain": [
              "array([[ 0.,  0.,  0.,  0.,  0.],\n",
              "       [ 0.,  0.,  0.,  0.,  0.],\n",
              "       [ 0.,  0.,  0.,  0.,  0.],\n",
              "       [ 0.,  0.,  0.,  0.,  0.],\n",
              "       [ 0.,  0.,  0.,  0.,  0.]])"
            ]
          },
          "execution_count": 26,
          "metadata": {},
          "output_type": "execute_result"
        }
      ],
      "source": [
        "np.zeros((5,5))"
      ]
    },
    {
      "cell_type": "code",
      "execution_count": null,
      "metadata": {
        "id": "Z-mrY_1b8aYu",
        "outputId": "ca363aae-1a2c-42dc-afc0-96423399a799"
      },
      "outputs": [
        {
          "data": {
            "text/plain": [
              "array([ 1.,  1.,  1.])"
            ]
          },
          "execution_count": 27,
          "metadata": {},
          "output_type": "execute_result"
        }
      ],
      "source": [
        "np.ones(3)"
      ]
    },
    {
      "cell_type": "code",
      "execution_count": null,
      "metadata": {
        "id": "NZRISpsu8aYw",
        "outputId": "a5b084d7-01fd-4e44-dc67-50ecd14b07bc"
      },
      "outputs": [
        {
          "data": {
            "text/plain": [
              "array([[ 1.,  1.,  1.],\n",
              "       [ 1.,  1.,  1.],\n",
              "       [ 1.,  1.,  1.]])"
            ]
          },
          "execution_count": 28,
          "metadata": {},
          "output_type": "execute_result"
        }
      ],
      "source": [
        "np.ones((3,3))"
      ]
    },
    {
      "cell_type": "markdown",
      "metadata": {
        "id": "XfT5SJly8aYy"
      },
      "source": [
        "### linspace\n",
        "Devuelve números espaciados uniformemente durante un intervalo especificado."
      ]
    },
    {
      "cell_type": "code",
      "execution_count": null,
      "metadata": {
        "id": "Z9FSPCB68aYz",
        "outputId": "9013906f-8ba0-464d-99e2-5f152d58332a"
      },
      "outputs": [
        {
          "data": {
            "text/plain": [
              "array([  0.,   5.,  10.])"
            ]
          },
          "execution_count": 29,
          "metadata": {},
          "output_type": "execute_result"
        }
      ],
      "source": [
        "np.linspace(0,10,3)"
      ]
    },
    {
      "cell_type": "code",
      "execution_count": null,
      "metadata": {
        "id": "0QFcJgjb8aY0",
        "outputId": "4a0d987c-01dc-4344-be0a-eb61b629446a"
      },
      "outputs": [
        {
          "data": {
            "text/plain": [
              "array([  0.        ,   0.20408163,   0.40816327,   0.6122449 ,\n",
              "         0.81632653,   1.02040816,   1.2244898 ,   1.42857143,\n",
              "         1.63265306,   1.83673469,   2.04081633,   2.24489796,\n",
              "         2.44897959,   2.65306122,   2.85714286,   3.06122449,\n",
              "         3.26530612,   3.46938776,   3.67346939,   3.87755102,\n",
              "         4.08163265,   4.28571429,   4.48979592,   4.69387755,\n",
              "         4.89795918,   5.10204082,   5.30612245,   5.51020408,\n",
              "         5.71428571,   5.91836735,   6.12244898,   6.32653061,\n",
              "         6.53061224,   6.73469388,   6.93877551,   7.14285714,\n",
              "         7.34693878,   7.55102041,   7.75510204,   7.95918367,\n",
              "         8.16326531,   8.36734694,   8.57142857,   8.7755102 ,\n",
              "         8.97959184,   9.18367347,   9.3877551 ,   9.59183673,\n",
              "         9.79591837,  10.        ])"
            ]
          },
          "execution_count": 31,
          "metadata": {},
          "output_type": "execute_result"
        }
      ],
      "source": [
        "np.linspace(0,10,50)"
      ]
    },
    {
      "cell_type": "markdown",
      "metadata": {
        "id": "8ERsW4W68aY1"
      },
      "source": [
        "## eye\n",
        "\n",
        "Crea una matriz de identidad"
      ]
    },
    {
      "cell_type": "code",
      "execution_count": null,
      "metadata": {
        "id": "2yNODqXj8aY2",
        "outputId": "7e7d4a14-126a-47ae-9b37-3507163820b0"
      },
      "outputs": [
        {
          "data": {
            "text/plain": [
              "array([[ 1.,  0.,  0.,  0.],\n",
              "       [ 0.,  1.,  0.,  0.],\n",
              "       [ 0.,  0.,  1.,  0.],\n",
              "       [ 0.,  0.,  0.,  1.]])"
            ]
          },
          "execution_count": 37,
          "metadata": {},
          "output_type": "execute_result"
        }
      ],
      "source": [
        "np.eye(4)"
      ]
    },
    {
      "cell_type": "markdown",
      "metadata": {
        "id": "txQyrwR38aY3"
      },
      "source": [
        "## Random \n",
        "\n",
        "Numpy también tiene muchas formas de crear matrices de números aleatorios:\n",
        "\n",
        "### rand\n",
        "Crea una matriz de la forma dada y la rellena con\n",
        "muestras aleatorias de una distribución uniforme\n",
        "entre``[0, 1)``."
      ]
    },
    {
      "cell_type": "code",
      "execution_count": null,
      "metadata": {
        "id": "sMscE5gH8aY3",
        "outputId": "0e9baf1f-ed41-41e2-c551-03c99cb46d17"
      },
      "outputs": [
        {
          "data": {
            "text/plain": [
              "array([0.59721896, 0.03251926])"
            ]
          },
          "execution_count": 9,
          "metadata": {},
          "output_type": "execute_result"
        }
      ],
      "source": [
        "np.random.rand(2)"
      ]
    },
    {
      "cell_type": "code",
      "execution_count": null,
      "metadata": {
        "id": "Y1UJxcWb8aY4",
        "outputId": "0c2c4845-f799-4c24-faeb-3d3dbc3f7fe1"
      },
      "outputs": [
        {
          "data": {
            "text/plain": [
              "array([[0.91583519, 0.66912302, 0.4281503 , 0.03303707, 0.69993912],\n",
              "       [0.27442503, 0.19333618, 0.68872026, 0.52872091, 0.51511601],\n",
              "       [0.11885511, 0.97750294, 0.93086627, 0.29735385, 0.45703684],\n",
              "       [0.24341289, 0.43414035, 0.88390166, 0.30414169, 0.27414709],\n",
              "       [0.1762018 , 0.12522452, 0.80029712, 0.58383877, 0.90625895]])"
            ]
          },
          "execution_count": 10,
          "metadata": {},
          "output_type": "execute_result"
        }
      ],
      "source": [
        "np.random.rand(5,5)"
      ]
    },
    {
      "cell_type": "markdown",
      "metadata": {
        "id": "3KaEbvdZ8aY5"
      },
      "source": [
        "### randn\n",
        "\n",
        "Devuelve una muestra (o muestras) de la distribución \"normal estándar\". A diferencia de rand, que es uniforme:"
      ]
    },
    {
      "cell_type": "code",
      "execution_count": null,
      "metadata": {
        "id": "vCCRE4PF8aY5",
        "outputId": "c0bcfef5-1360-4cc7-b032-1250ca601c5f"
      },
      "outputs": [
        {
          "data": {
            "text/plain": [
              "array([-1.370517  ,  0.44368468])"
            ]
          },
          "execution_count": 11,
          "metadata": {},
          "output_type": "execute_result"
        }
      ],
      "source": [
        "np.random.randn(2)"
      ]
    },
    {
      "cell_type": "code",
      "execution_count": null,
      "metadata": {
        "id": "GBlXZEdE8aY7",
        "outputId": "b514cfa4-a0f3-4768-e32b-2d880a09b78b"
      },
      "outputs": [
        {
          "data": {
            "text/plain": [
              "array([[ 0.70123747, -0.98758783, -0.99364122,  0.31108749,  0.02747188],\n",
              "       [-0.64279661,  0.90710032,  0.8573897 ,  1.44792595, -1.10047301],\n",
              "       [-0.2917708 , -1.74888705, -0.15984124,  0.00356483, -1.17437163],\n",
              "       [-0.61352307,  0.76565373, -1.64502941, -0.51753394,  0.45031242],\n",
              "       [-1.98253357, -0.64716227, -0.63869684,  0.19729062,  0.30171275]])"
            ]
          },
          "execution_count": 12,
          "metadata": {},
          "output_type": "execute_result"
        }
      ],
      "source": [
        "np.random.randn(5,5)"
      ]
    },
    {
      "cell_type": "markdown",
      "metadata": {
        "id": "Es2k9Gyw8aY8"
      },
      "source": [
        "### randint\n",
        "Devuelve enteros aleatorios desde `low` (inclusive) hasta `high` (exclusivo)."
      ]
    },
    {
      "cell_type": "code",
      "execution_count": null,
      "metadata": {
        "id": "VbgZQmbD8aY9",
        "outputId": "3711dcdc-ef03-42df-cdae-fb5968bc34a9"
      },
      "outputs": [
        {
          "data": {
            "text/plain": [
              "8"
            ]
          },
          "execution_count": 13,
          "metadata": {},
          "output_type": "execute_result"
        }
      ],
      "source": [
        "np.random.randint(1,100)"
      ]
    },
    {
      "cell_type": "code",
      "execution_count": null,
      "metadata": {
        "id": "aUMAoO318aY9",
        "outputId": "3d7b10a7-6944-436e-9878-79c207cbeee9"
      },
      "outputs": [
        {
          "data": {
            "text/plain": [
              "array([46, 57,  6, 83, 32,  8, 97,  2,  7, 77])"
            ]
          },
          "execution_count": 14,
          "metadata": {},
          "output_type": "execute_result"
        }
      ],
      "source": [
        "np.random.randint(1,100,10)"
      ]
    },
    {
      "cell_type": "markdown",
      "metadata": {
        "id": "w9i7zNcF8aY-"
      },
      "source": [
        "## Array Attributes and Methods\n",
        "\n",
        "Analicemos algunos atributos y métodos útiles o una matriz:"
      ]
    },
    {
      "cell_type": "code",
      "execution_count": null,
      "metadata": {
        "id": "XTuMA4dB8aY-"
      },
      "outputs": [],
      "source": [
        "arr = np.arange(25)\n",
        "ranarr = np.random.randint(0,50,10)"
      ]
    },
    {
      "cell_type": "code",
      "execution_count": null,
      "metadata": {
        "id": "EqH58VXE8aY_",
        "outputId": "f5e608b4-ad40-4478-952a-10256e6178c3"
      },
      "outputs": [
        {
          "data": {
            "text/plain": [
              "array([ 0,  1,  2,  3,  4,  5,  6,  7,  8,  9, 10, 11, 12, 13, 14, 15, 16,\n",
              "       17, 18, 19, 20, 21, 22, 23, 24])"
            ]
          },
          "execution_count": 16,
          "metadata": {},
          "output_type": "execute_result"
        }
      ],
      "source": [
        "arr"
      ]
    },
    {
      "cell_type": "code",
      "execution_count": null,
      "metadata": {
        "id": "lyw6cBIF8aZE",
        "outputId": "254fec9b-442d-43f5-e279-15b42eb295fc"
      },
      "outputs": [
        {
          "data": {
            "text/plain": [
              "array([43, 31, 13, 19, 25,  2,  3, 10, 10, 38])"
            ]
          },
          "execution_count": 17,
          "metadata": {},
          "output_type": "execute_result"
        }
      ],
      "source": [
        "ranarr"
      ]
    },
    {
      "cell_type": "markdown",
      "metadata": {
        "id": "Z9OsFjnU8aZF"
      },
      "source": [
        "## Reshape\n",
        "Devuelve una matriz que contiene los mismos datos con una nueva forma."
      ]
    },
    {
      "cell_type": "code",
      "execution_count": null,
      "metadata": {
        "id": "bfpwiAAf8aZH",
        "outputId": "993bc38d-bd66-4791-967b-697b07cb5353"
      },
      "outputs": [
        {
          "data": {
            "text/plain": [
              "array([[ 0,  1,  2,  3,  4],\n",
              "       [ 5,  6,  7,  8,  9],\n",
              "       [10, 11, 12, 13, 14],\n",
              "       [15, 16, 17, 18, 19],\n",
              "       [20, 21, 22, 23, 24]])"
            ]
          },
          "execution_count": 18,
          "metadata": {},
          "output_type": "execute_result"
        }
      ],
      "source": [
        "arr.reshape(5,5)"
      ]
    },
    {
      "cell_type": "markdown",
      "metadata": {
        "id": "Vjp-EaEh8aZI"
      },
      "source": [
        "### max,min,argmax,argmin\n",
        "\n",
        "Estos son métodos útiles para encontrar valores máximos o mínimos. O para encontrar sus ubicaciones de índice usando argmin o argmax"
      ]
    },
    {
      "cell_type": "code",
      "execution_count": null,
      "metadata": {
        "id": "G4p24wfN8aZJ",
        "outputId": "94c6ac26-8d0b-4ad2-ffa0-fa92eda1a5b1"
      },
      "outputs": [
        {
          "data": {
            "text/plain": [
              "array([43, 31, 13, 19, 25,  2,  3, 10, 10, 38])"
            ]
          },
          "execution_count": 19,
          "metadata": {},
          "output_type": "execute_result"
        }
      ],
      "source": [
        "ranarr"
      ]
    },
    {
      "cell_type": "code",
      "execution_count": null,
      "metadata": {
        "id": "oQIyhyoX8aZK",
        "outputId": "d5bceab5-6393-49fb-f04f-5e94fec8fca5"
      },
      "outputs": [
        {
          "data": {
            "text/plain": [
              "43"
            ]
          },
          "execution_count": 20,
          "metadata": {},
          "output_type": "execute_result"
        }
      ],
      "source": [
        "ranarr.max()"
      ]
    },
    {
      "cell_type": "code",
      "execution_count": null,
      "metadata": {
        "id": "vBCDaC2D8aZL",
        "outputId": "cc3ee316-3653-4dc5-e199-2e2f05eaa40e"
      },
      "outputs": [
        {
          "data": {
            "text/plain": [
              "0"
            ]
          },
          "execution_count": 21,
          "metadata": {},
          "output_type": "execute_result"
        }
      ],
      "source": [
        "ranarr.argmax()"
      ]
    },
    {
      "cell_type": "code",
      "execution_count": null,
      "metadata": {
        "id": "c8mqVnTi8aZM",
        "outputId": "6c4c9dd4-3a91-4a3b-ba37-da0f91a3466c"
      },
      "outputs": [
        {
          "data": {
            "text/plain": [
              "2"
            ]
          },
          "execution_count": 22,
          "metadata": {},
          "output_type": "execute_result"
        }
      ],
      "source": [
        "ranarr.min()"
      ]
    },
    {
      "cell_type": "code",
      "execution_count": null,
      "metadata": {
        "id": "z82FM4wt8aZN",
        "outputId": "a7734514-ec96-45ca-8dcb-4dc82ab00fd1"
      },
      "outputs": [
        {
          "data": {
            "text/plain": [
              "5"
            ]
          },
          "execution_count": 23,
          "metadata": {},
          "output_type": "execute_result"
        }
      ],
      "source": [
        "ranarr.argmin()"
      ]
    },
    {
      "cell_type": "markdown",
      "metadata": {
        "id": "GlA9_XeM8aZO"
      },
      "source": [
        "## Shape\n",
        "\n",
        "La forma es un atributo que tienen las matrices (no un método):"
      ]
    },
    {
      "cell_type": "code",
      "execution_count": null,
      "metadata": {
        "id": "Z92ouACC8aZO",
        "outputId": "571a6919-4bdd-41d2-fd7d-2eb14b42ccba"
      },
      "outputs": [
        {
          "data": {
            "text/plain": [
              "(25,)"
            ]
          },
          "execution_count": 24,
          "metadata": {},
          "output_type": "execute_result"
        }
      ],
      "source": [
        "# Vector\n",
        "arr.shape"
      ]
    },
    {
      "cell_type": "code",
      "execution_count": null,
      "metadata": {
        "id": "7yqHIvK28aZP",
        "outputId": "4d062b9c-396b-43f7-bbb4-d67c0c2e2734"
      },
      "outputs": [
        {
          "data": {
            "text/plain": [
              "array([[ 0,  1,  2,  3,  4,  5,  6,  7,  8,  9, 10, 11, 12, 13, 14, 15,\n",
              "        16, 17, 18, 19, 20, 21, 22, 23, 24]])"
            ]
          },
          "execution_count": 25,
          "metadata": {},
          "output_type": "execute_result"
        }
      ],
      "source": [
        "# Observe los dos conjuntos de corchetes\n",
        "arr.reshape(1,25)"
      ]
    },
    {
      "cell_type": "code",
      "execution_count": null,
      "metadata": {
        "id": "D8tA2Jf78aZS",
        "outputId": "ce88a7c0-ef16-40ba-d938-b4f5646ad0b9"
      },
      "outputs": [
        {
          "data": {
            "text/plain": [
              "(1, 25)"
            ]
          },
          "execution_count": 26,
          "metadata": {},
          "output_type": "execute_result"
        }
      ],
      "source": [
        "arr.reshape(1,25).shape"
      ]
    },
    {
      "cell_type": "code",
      "execution_count": null,
      "metadata": {
        "id": "YdLpFr2_8aZT",
        "outputId": "bbfd51f3-5701-4748-fbe9-323b69a97265"
      },
      "outputs": [
        {
          "data": {
            "text/plain": [
              "array([[ 0],\n",
              "       [ 1],\n",
              "       [ 2],\n",
              "       [ 3],\n",
              "       [ 4],\n",
              "       [ 5],\n",
              "       [ 6],\n",
              "       [ 7],\n",
              "       [ 8],\n",
              "       [ 9],\n",
              "       [10],\n",
              "       [11],\n",
              "       [12],\n",
              "       [13],\n",
              "       [14],\n",
              "       [15],\n",
              "       [16],\n",
              "       [17],\n",
              "       [18],\n",
              "       [19],\n",
              "       [20],\n",
              "       [21],\n",
              "       [22],\n",
              "       [23],\n",
              "       [24]])"
            ]
          },
          "execution_count": 27,
          "metadata": {},
          "output_type": "execute_result"
        }
      ],
      "source": [
        "arr.reshape(25,1)"
      ]
    },
    {
      "cell_type": "code",
      "execution_count": null,
      "metadata": {
        "id": "s28z3Wvl8aZU",
        "outputId": "27fd531e-9fae-4814-d053-08f4a8abc09d"
      },
      "outputs": [
        {
          "data": {
            "text/plain": [
              "(25, 1)"
            ]
          },
          "execution_count": 28,
          "metadata": {},
          "output_type": "execute_result"
        }
      ],
      "source": [
        "arr.reshape(25,1).shape"
      ]
    },
    {
      "cell_type": "markdown",
      "metadata": {
        "id": "WeA4Hea48aZV"
      },
      "source": [
        "### dtype\n",
        "\n",
        "También puedes conocer el tipo de datos del objeto en la matriz:"
      ]
    },
    {
      "cell_type": "code",
      "execution_count": null,
      "metadata": {
        "id": "IPiG86Ij8aZW",
        "outputId": "79f2ff3d-5cf1-442e-e94f-2422eacdbb89"
      },
      "outputs": [
        {
          "data": {
            "text/plain": [
              "dtype('int32')"
            ]
          },
          "execution_count": 29,
          "metadata": {},
          "output_type": "execute_result"
        }
      ],
      "source": [
        "arr.dtype"
      ]
    },
    {
      "cell_type": "markdown",
      "metadata": {
        "id": "hG7DwDNC8aZW"
      },
      "source": [
        "# Buen trabajo!"
      ]
    }
  ],
  "metadata": {
    "kernelspec": {
      "display_name": "Python 3",
      "language": "python",
      "name": "python3"
    },
    "language_info": {
      "codemirror_mode": {
        "name": "ipython",
        "version": 3
      },
      "file_extension": ".py",
      "mimetype": "text/x-python",
      "name": "python",
      "nbconvert_exporter": "python",
      "pygments_lexer": "ipython3",
      "version": "3.8.5"
    },
    "colab": {
      "name": "01-NumPy Arreglos.ipynb",
      "provenance": [],
      "include_colab_link": true
    }
  },
  "nbformat": 4,
  "nbformat_minor": 0
}