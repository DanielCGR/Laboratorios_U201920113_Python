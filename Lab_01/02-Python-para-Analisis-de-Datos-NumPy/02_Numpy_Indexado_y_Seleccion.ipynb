{
  "cells": [
    {
      "cell_type": "markdown",
      "metadata": {
        "id": "view-in-github",
        "colab_type": "text"
      },
      "source": [
        "<a href=\"https://colab.research.google.com/github/DanielCGR/Laboratorios_U201920113_Python/blob/main/Lab_01/02-Python-para-Analisis-de-Datos-NumPy/02_Numpy_Indexado_y_Seleccion.ipynb\" target=\"_parent\"><img src=\"https://colab.research.google.com/assets/colab-badge.svg\" alt=\"Open In Colab\"/></a>"
      ]
    },
    {
      "cell_type": "markdown",
      "metadata": {
        "id": "T_DNCjntBHH4"
      },
      "source": [
        "___\n",
        "\n",
        "<a href='https://jupyter-notebook.readthedocs.io/en/stable/examples/Notebook/Running%20Code.html'> <img src='https://www.python.org/static/img/python-logo.png' /></a>\n",
        "___"
      ]
    },
    {
      "cell_type": "markdown",
      "metadata": {
        "id": "jmdYkBpaBHH9"
      },
      "source": [
        "# NumPy Indexado y Selección\n",
        "\n",
        "En esta lección veremos cómo seleccionar elementos o grupos de elementos de una matriz."
      ]
    },
    {
      "cell_type": "code",
      "execution_count": null,
      "metadata": {
        "id": "6cM4nnASBHH_"
      },
      "outputs": [],
      "source": [
        "import numpy as np"
      ]
    },
    {
      "cell_type": "code",
      "execution_count": null,
      "metadata": {
        "id": "IsfAi3QIBHIB"
      },
      "outputs": [],
      "source": [
        "#Creando una matriz de muestra\n",
        "arr = np.arange(0,11)"
      ]
    },
    {
      "cell_type": "code",
      "execution_count": null,
      "metadata": {
        "id": "iD68Kd0IBHIC",
        "outputId": "05afed8a-1d05-4d0f-e232-182ecbaa0941"
      },
      "outputs": [
        {
          "data": {
            "text/plain": [
              "array([ 0,  1,  2,  3,  4,  5,  6,  7,  8,  9, 10])"
            ]
          },
          "execution_count": 3,
          "metadata": {},
          "output_type": "execute_result"
        }
      ],
      "source": [
        "#Show\n",
        "arr"
      ]
    },
    {
      "cell_type": "markdown",
      "metadata": {
        "id": "d7usOT6TBHIE"
      },
      "source": [
        "## Selección e indexación de soportes\n",
        "La forma más sencilla de elegir uno o algunos elementos de una matriz es muy similar a las listas de Python:"
      ]
    },
    {
      "cell_type": "code",
      "execution_count": null,
      "metadata": {
        "id": "qiqC22aSBHIG",
        "outputId": "72bc5d03-3399-456f-f774-458e1cfb2aa6"
      },
      "outputs": [
        {
          "data": {
            "text/plain": [
              "8"
            ]
          },
          "execution_count": 4,
          "metadata": {},
          "output_type": "execute_result"
        }
      ],
      "source": [
        "#Obtenga un valor en un índice\n",
        "arr[8]"
      ]
    },
    {
      "cell_type": "code",
      "execution_count": null,
      "metadata": {
        "id": "4iw46Tw2BHIJ",
        "outputId": "dd4becb5-9698-459d-8d8b-84435e10ded2"
      },
      "outputs": [
        {
          "data": {
            "text/plain": [
              "array([1, 2, 3, 4])"
            ]
          },
          "execution_count": 5,
          "metadata": {},
          "output_type": "execute_result"
        }
      ],
      "source": [
        "#Obtener valores en un rango\n",
        "arr[1:5]"
      ]
    },
    {
      "cell_type": "code",
      "execution_count": null,
      "metadata": {
        "id": "_WfWGly2BHIK",
        "outputId": "1a9d3550-f019-4894-cb88-10850da32f4e"
      },
      "outputs": [
        {
          "data": {
            "text/plain": [
              "array([0, 1, 2, 3, 4])"
            ]
          },
          "execution_count": 6,
          "metadata": {},
          "output_type": "execute_result"
        }
      ],
      "source": [
        "#Obtener valores en un rango\n",
        "arr[0:5]"
      ]
    },
    {
      "cell_type": "markdown",
      "metadata": {
        "id": "9gU00ifBBHIM"
      },
      "source": [
        "## Broadcasting\n",
        "\n",
        "Las matrices Numpy difieren de una lista de Python normal debido a su capacidad para transmitir:"
      ]
    },
    {
      "cell_type": "code",
      "execution_count": null,
      "metadata": {
        "id": "YmM3qWc5BHIN",
        "outputId": "7276c6ea-b876-4d4a-90ae-52f9b251666d"
      },
      "outputs": [
        {
          "data": {
            "text/plain": [
              "array([100, 100, 100, 100, 100,   5,   6,   7,   8,   9,  10])"
            ]
          },
          "execution_count": 7,
          "metadata": {},
          "output_type": "execute_result"
        }
      ],
      "source": [
        "#Establecer un valor con rango de índice (Broadcasting)\n",
        "arr[0:5]=100\n",
        "\n",
        "#Show\n",
        "arr"
      ]
    },
    {
      "cell_type": "code",
      "execution_count": null,
      "metadata": {
        "id": "e7pF2mMcBHIO",
        "outputId": "3f7e7327-9b14-4078-ecab-c865cab82d4e"
      },
      "outputs": [
        {
          "data": {
            "text/plain": [
              "array([ 0,  1,  2,  3,  4,  5,  6,  7,  8,  9, 10])"
            ]
          },
          "execution_count": 9,
          "metadata": {},
          "output_type": "execute_result"
        }
      ],
      "source": [
        "# Restablecer matriz, veremos por qué se tuvo que restablecer en un momento\n",
        "arr = np.arange(0,11)\n",
        "\n",
        "#Show\n",
        "arr"
      ]
    },
    {
      "cell_type": "code",
      "execution_count": null,
      "metadata": {
        "id": "p4BlqCi3BHIP",
        "outputId": "abecc239-c865-435d-d098-d23f6e08f5f2"
      },
      "outputs": [
        {
          "data": {
            "text/plain": [
              "array([0, 1, 2, 3, 4, 5])"
            ]
          },
          "execution_count": 11,
          "metadata": {},
          "output_type": "execute_result"
        }
      ],
      "source": [
        "#Notas importantes sobre Slices\n",
        "slice_of_arr = arr[0:6]\n",
        "\n",
        "#Mostrar slice\n",
        "slice_of_arr"
      ]
    },
    {
      "cell_type": "code",
      "execution_count": null,
      "metadata": {
        "id": "ArBf-mwkBHIQ",
        "outputId": "6a0df880-65e7-4cc4-fc68-a1c1469d800d"
      },
      "outputs": [
        {
          "data": {
            "text/plain": [
              "array([99, 99, 99, 99, 99, 99])"
            ]
          },
          "execution_count": 12,
          "metadata": {},
          "output_type": "execute_result"
        }
      ],
      "source": [
        "#Cambiar Slice\n",
        "slice_of_arr[:]=99\n",
        "\n",
        "#Mostrar Slice nuevamente\n",
        "slice_of_arr"
      ]
    },
    {
      "cell_type": "markdown",
      "metadata": {
        "id": "x54ZSXoTBHIQ"
      },
      "source": [
        "¡Ahora tener en cuenta que los cambios también ocurren en nuestra matriz original!"
      ]
    },
    {
      "cell_type": "code",
      "execution_count": null,
      "metadata": {
        "id": "6rZXnDlQBHIR",
        "outputId": "f3ed28d5-f893-4178-8a6e-e718ef744bd1"
      },
      "outputs": [
        {
          "data": {
            "text/plain": [
              "array([99, 99, 99, 99, 99, 99,  6,  7,  8,  9, 10])"
            ]
          },
          "execution_count": 13,
          "metadata": {},
          "output_type": "execute_result"
        }
      ],
      "source": [
        "arr"
      ]
    },
    {
      "cell_type": "markdown",
      "metadata": {
        "id": "kiYVFzPzBHIS"
      },
      "source": [
        "Los datos no se copian, es una vista de la matriz original. ¡Esto evita problemas de memoria!"
      ]
    },
    {
      "cell_type": "code",
      "execution_count": null,
      "metadata": {
        "id": "KqzrPvD9BHIS",
        "outputId": "596b6de8-cec8-4aa9-a492-cfd1c0981173"
      },
      "outputs": [
        {
          "data": {
            "text/plain": [
              "array([99, 99, 99, 99, 99, 99,  6,  7,  8,  9, 10])"
            ]
          },
          "execution_count": 14,
          "metadata": {},
          "output_type": "execute_result"
        }
      ],
      "source": [
        "#Para obtener una copia, debe ser explícito\n",
        "arr_copy = arr.copy()\n",
        "\n",
        "arr_copy"
      ]
    },
    {
      "cell_type": "markdown",
      "metadata": {
        "id": "YA5GM-VIBHIT"
      },
      "source": [
        "## Indexando un array a 2D  (matrices)\n",
        "\n",
        "La forma general es **arr_2d[row][col]** o **arr_2d[row,col]**. Por lo general, recomiendo usar la notación de coma para mayor claridad."
      ]
    },
    {
      "cell_type": "code",
      "execution_count": null,
      "metadata": {
        "id": "lutbV8KTBHIT",
        "outputId": "05bf0971-a3f1-4a4c-88c3-242777d2b42d"
      },
      "outputs": [
        {
          "data": {
            "text/plain": [
              "array([[ 5, 10, 15],\n",
              "       [20, 25, 30],\n",
              "       [35, 40, 45]])"
            ]
          },
          "execution_count": 15,
          "metadata": {},
          "output_type": "execute_result"
        }
      ],
      "source": [
        "arr_2d = np.array(([5,10,15],[20,25,30],[35,40,45]))\n",
        "\n",
        "#Show\n",
        "arr_2d"
      ]
    },
    {
      "cell_type": "code",
      "execution_count": null,
      "metadata": {
        "id": "w6JIKe49BHIU",
        "outputId": "4499fee5-1544-4e56-f9b6-140fb4833d25"
      },
      "outputs": [
        {
          "data": {
            "text/plain": [
              "array([20, 25, 30])"
            ]
          },
          "execution_count": 16,
          "metadata": {},
          "output_type": "execute_result"
        }
      ],
      "source": [
        "#Indexando fila\n",
        "arr_2d[1]\n"
      ]
    },
    {
      "cell_type": "code",
      "execution_count": null,
      "metadata": {
        "id": "nx_1zy0zBHIU",
        "outputId": "52251196-142b-4688-e506-9ebfb23822f0"
      },
      "outputs": [
        {
          "data": {
            "text/plain": [
              "20"
            ]
          },
          "execution_count": 17,
          "metadata": {},
          "output_type": "execute_result"
        }
      ],
      "source": [
        "# Formaato es arr_2d[row][col] o arr_2d[row,col]\n",
        "\n",
        "# Obtener valor de elemento individual\n",
        "arr_2d[1][0]"
      ]
    },
    {
      "cell_type": "code",
      "execution_count": null,
      "metadata": {
        "id": "2P35g9yzBHIV",
        "outputId": "b7db9903-d29c-448c-f8a6-22e1a46bb9ab"
      },
      "outputs": [
        {
          "data": {
            "text/plain": [
              "array([[10, 15],\n",
              "       [25, 30]])"
            ]
          },
          "execution_count": 19,
          "metadata": {},
          "output_type": "execute_result"
        }
      ],
      "source": [
        "# 2D array slicing\n",
        "\n",
        "#Forma (2,2) desde la esquina superior derecha\n",
        "arr_2d[:2,1:]"
      ]
    },
    {
      "cell_type": "code",
      "execution_count": null,
      "metadata": {
        "id": "EUAGmPVFBHIW",
        "outputId": "8c51e089-d19f-4b81-8986-647d7092ba23"
      },
      "outputs": [
        {
          "data": {
            "text/plain": [
              "array([35, 40, 45])"
            ]
          },
          "execution_count": 20,
          "metadata": {},
          "output_type": "execute_result"
        }
      ],
      "source": [
        "#Forma fila inferior\n",
        "arr_2d[2]"
      ]
    },
    {
      "cell_type": "code",
      "execution_count": null,
      "metadata": {
        "id": "8JbyihkjBHIX",
        "outputId": "03803b42-d05f-4fcb-ef92-1277837960a4"
      },
      "outputs": [
        {
          "data": {
            "text/plain": [
              "array([35, 40, 45])"
            ]
          },
          "execution_count": 21,
          "metadata": {},
          "output_type": "execute_result"
        }
      ],
      "source": [
        "#Forma fila inferior\n",
        "arr_2d[2,:]"
      ]
    },
    {
      "cell_type": "markdown",
      "metadata": {
        "id": "oTlTHYO1BHIX"
      },
      "source": [
        "### Indexacion Elegante\n",
        "\n",
        "La indexación elegante le permite seleccionar filas o columnas enteras fuera de orden, para mostrar esto, construyamos rápidamente una matriz numpy:"
      ]
    },
    {
      "cell_type": "code",
      "execution_count": null,
      "metadata": {
        "id": "Fu4oYSKeBHIX"
      },
      "outputs": [],
      "source": [
        "#Construimos una matriz\n",
        "arr2d = np.zeros((10,10))"
      ]
    },
    {
      "cell_type": "code",
      "execution_count": null,
      "metadata": {
        "id": "ZY1Sl7ViBHIY"
      },
      "outputs": [],
      "source": [
        "#Longitud de la matriz\n",
        "arr_length = arr2d.shape[1]"
      ]
    },
    {
      "cell_type": "code",
      "execution_count": null,
      "metadata": {
        "id": "2vBjD4GhBHIY",
        "outputId": "3fe7e52f-a0e6-4751-bd8d-de1fb4245190"
      },
      "outputs": [
        {
          "data": {
            "text/plain": [
              "array([[0., 0., 0., 0., 0., 0., 0., 0., 0., 0.],\n",
              "       [1., 1., 1., 1., 1., 1., 1., 1., 1., 1.],\n",
              "       [2., 2., 2., 2., 2., 2., 2., 2., 2., 2.],\n",
              "       [3., 3., 3., 3., 3., 3., 3., 3., 3., 3.],\n",
              "       [4., 4., 4., 4., 4., 4., 4., 4., 4., 4.],\n",
              "       [5., 5., 5., 5., 5., 5., 5., 5., 5., 5.],\n",
              "       [6., 6., 6., 6., 6., 6., 6., 6., 6., 6.],\n",
              "       [7., 7., 7., 7., 7., 7., 7., 7., 7., 7.],\n",
              "       [8., 8., 8., 8., 8., 8., 8., 8., 8., 8.],\n",
              "       [9., 9., 9., 9., 9., 9., 9., 9., 9., 9.]])"
            ]
          },
          "execution_count": 24,
          "metadata": {},
          "output_type": "execute_result"
        }
      ],
      "source": [
        "#Configurar matriz\n",
        "\n",
        "for i in range(arr_length):\n",
        "    arr2d[i] = i\n",
        "    \n",
        "arr2d"
      ]
    },
    {
      "cell_type": "markdown",
      "metadata": {
        "id": "h2MfrYwfBHIY"
      },
      "source": [
        "La indexación elegante permite lo siguiente"
      ]
    },
    {
      "cell_type": "code",
      "execution_count": null,
      "metadata": {
        "id": "BDNNRzBrBHIZ",
        "outputId": "7e058530-e05e-437a-cd89-0cf45308bc90"
      },
      "outputs": [
        {
          "data": {
            "text/plain": [
              "array([[ 2.,  2.,  2.,  2.,  2.,  2.,  2.,  2.,  2.,  2.],\n",
              "       [ 4.,  4.,  4.,  4.,  4.,  4.,  4.,  4.,  4.,  4.],\n",
              "       [ 6.,  6.,  6.,  6.,  6.,  6.,  6.,  6.,  6.,  6.],\n",
              "       [ 8.,  8.,  8.,  8.,  8.,  8.,  8.,  8.,  8.,  8.]])"
            ]
          },
          "execution_count": 24,
          "metadata": {},
          "output_type": "execute_result"
        }
      ],
      "source": [
        "arr2d[[2,4,6,8]]"
      ]
    },
    {
      "cell_type": "code",
      "execution_count": null,
      "metadata": {
        "id": "T7SbpgvABHIZ",
        "outputId": "0b6c8cba-1f62-40db-d252-10a1a5d3de02"
      },
      "outputs": [
        {
          "data": {
            "text/plain": [
              "array([[6., 6., 6., 6., 6., 6., 6., 6., 6., 6.],\n",
              "       [4., 4., 4., 4., 4., 4., 4., 4., 4., 4.],\n",
              "       [2., 2., 2., 2., 2., 2., 2., 2., 2., 2.],\n",
              "       [7., 7., 7., 7., 7., 7., 7., 7., 7., 7.]])"
            ]
          },
          "execution_count": 25,
          "metadata": {},
          "output_type": "execute_result"
        }
      ],
      "source": [
        "#Permite en cualquier orden\n",
        "arr2d[[6,4,2,7]]"
      ]
    },
    {
      "cell_type": "markdown",
      "metadata": {
        "id": "qtzUazzOBHIZ"
      },
      "source": [
        "## Selección\n",
        "\n",
        "Repasemos brevemente cómo usar los corchetes para la selección basada en operadores de comparación."
      ]
    },
    {
      "cell_type": "code",
      "execution_count": null,
      "metadata": {
        "id": "CZyd74uYBHIZ",
        "outputId": "196cb3a2-64ee-400b-85e5-9ac09b9568f2"
      },
      "outputs": [
        {
          "data": {
            "text/plain": [
              "array([ 1,  2,  3,  4,  5,  6,  7,  8,  9, 10])"
            ]
          },
          "execution_count": 26,
          "metadata": {},
          "output_type": "execute_result"
        }
      ],
      "source": [
        "arr = np.arange(1,11)\n",
        "arr"
      ]
    },
    {
      "cell_type": "code",
      "execution_count": null,
      "metadata": {
        "id": "KYw9_RVpBHIa",
        "outputId": "54f679fb-55b5-4d15-b986-15a8c66d51e3"
      },
      "outputs": [
        {
          "data": {
            "text/plain": [
              "array([False, False, False, False,  True,  True,  True,  True,  True,\n",
              "        True])"
            ]
          },
          "execution_count": 27,
          "metadata": {},
          "output_type": "execute_result"
        }
      ],
      "source": [
        "arr > 4"
      ]
    },
    {
      "cell_type": "code",
      "execution_count": null,
      "metadata": {
        "id": "TT_T7lwVBHIa"
      },
      "outputs": [],
      "source": [
        "bool_arr = arr>4"
      ]
    },
    {
      "cell_type": "code",
      "execution_count": null,
      "metadata": {
        "id": "ZB8pl9D7BHIa",
        "outputId": "cecec7b9-84cb-4426-a345-1f7952a8be0c"
      },
      "outputs": [
        {
          "data": {
            "text/plain": [
              "array([False, False, False, False,  True,  True,  True,  True,  True,\n",
              "        True])"
            ]
          },
          "execution_count": 31,
          "metadata": {},
          "output_type": "execute_result"
        }
      ],
      "source": [
        "bool_arr"
      ]
    },
    {
      "cell_type": "code",
      "execution_count": null,
      "metadata": {
        "id": "K6P5yk-XBHIb",
        "outputId": "e48fe0ce-d70f-4573-c089-2fb96c5c824f"
      },
      "outputs": [
        {
          "data": {
            "text/plain": [
              "array([ 5,  6,  7,  8,  9, 10])"
            ]
          },
          "execution_count": 32,
          "metadata": {},
          "output_type": "execute_result"
        }
      ],
      "source": [
        "arr[bool_arr]"
      ]
    },
    {
      "cell_type": "code",
      "execution_count": null,
      "metadata": {
        "id": "klcSyoi-BHIb",
        "outputId": "c03ffc56-e9ee-4400-e8ea-1d07318cd725"
      },
      "outputs": [
        {
          "data": {
            "text/plain": [
              "array([ 3,  4,  5,  6,  7,  8,  9, 10])"
            ]
          },
          "execution_count": 33,
          "metadata": {},
          "output_type": "execute_result"
        }
      ],
      "source": [
        "arr[arr>2]"
      ]
    },
    {
      "cell_type": "code",
      "execution_count": null,
      "metadata": {
        "id": "jofXJ2ueBHIb",
        "outputId": "df37dcb3-318f-44cb-ed2e-9b84fbd209a4"
      },
      "outputs": [
        {
          "data": {
            "text/plain": [
              "array([ 3,  4,  5,  6,  7,  8,  9, 10])"
            ]
          },
          "execution_count": 34,
          "metadata": {},
          "output_type": "execute_result"
        }
      ],
      "source": [
        "x = 2\n",
        "arr[arr>x]"
      ]
    },
    {
      "cell_type": "markdown",
      "metadata": {
        "id": "CXCTaNKOBHIb"
      },
      "source": [
        "# Great Job!\n"
      ]
    }
  ],
  "metadata": {
    "kernelspec": {
      "display_name": "Python 3",
      "language": "python",
      "name": "python3"
    },
    "language_info": {
      "codemirror_mode": {
        "name": "ipython",
        "version": 3
      },
      "file_extension": ".py",
      "mimetype": "text/x-python",
      "name": "python",
      "nbconvert_exporter": "python",
      "pygments_lexer": "ipython3",
      "version": "3.8.5"
    },
    "colab": {
      "name": "02-Numpy Indexado y Seleccion.ipynb",
      "provenance": [],
      "include_colab_link": true
    }
  },
  "nbformat": 4,
  "nbformat_minor": 0
}