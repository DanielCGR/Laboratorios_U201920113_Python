{
  "cells": [
    {
      "cell_type": "markdown",
      "metadata": {
        "id": "view-in-github",
        "colab_type": "text"
      },
      "source": [
        "<a href=\"https://colab.research.google.com/github/DanielCGR/Laboratorios_U201920113_Python/blob/main/Lab_02/03-Python-para-Analisis-de-Datos-Pandas/02_Series.ipynb\" target=\"_parent\"><img src=\"https://colab.research.google.com/assets/colab-badge.svg\" alt=\"Open In Colab\"/></a>"
      ]
    },
    {
      "cell_type": "markdown",
      "metadata": {
        "id": "0QKMkS6fVXKa"
      },
      "source": [
        "___\n",
        "<a href='https://pandas.pydata.org/pandas-docs/stable/reference/api/pandas.Series.html'> <img src='https://www.python.org/static/img/python-logo.png' /></a>\n",
        "___\n",
        "# Series"
      ]
    },
    {
      "cell_type": "markdown",
      "metadata": {
        "id": "FpGE5IwHVXKh"
      },
      "source": [
        "El primer tipo de datos principal sobre el que aprenderemos para Pandas es el tipo de datos Serie. Importaremos Pandas y exploremos el objeto Serie.\n",
        "\n",
        "Una Serie es muy similar a una matriz NumPy (de hecho, está construida sobre el objeto de matriz NumPy). Lo que diferencia a la matriz NumPy de una serie es que una serie puede tener etiquetas de eje, lo que significa que puede indexarse mediante una etiqueta, en lugar de solo una ubicación numérica. Tampoco necesita contener datos numéricos, puede contener cualquier objeto Python arbitrario.\n",
        "\n",
        "Exploremos este concepto a través de algunos ejemplos:"
      ]
    },
    {
      "cell_type": "code",
      "execution_count": null,
      "metadata": {
        "id": "8R7Cut9nVXKj"
      },
      "outputs": [],
      "source": [
        "import numpy as np\n",
        "import pandas as pd"
      ]
    },
    {
      "cell_type": "markdown",
      "metadata": {
        "id": "no-ZFrAFVXKl"
      },
      "source": [
        "### Creando una Serie\n",
        "\n",
        "Puedes convertir una lista, una matriz numérica o un diccionario en una serie:"
      ]
    },
    {
      "cell_type": "code",
      "execution_count": null,
      "metadata": {
        "id": "7x2aezzuVXKm"
      },
      "outputs": [],
      "source": [
        "labels = ['a','b','c']\n",
        "my_list = [10,20,30]\n",
        "arr = np.array([10,20,30])\n",
        "d = {'a':10,'b':20,'c':30}"
      ]
    },
    {
      "cell_type": "markdown",
      "metadata": {
        "id": "XzVKkWWSVXKn"
      },
      "source": [
        "** Usando Listas**"
      ]
    },
    {
      "cell_type": "code",
      "execution_count": null,
      "metadata": {
        "id": "077oyHh9VXKo",
        "outputId": "94aa5b0f-1f65-4a11-cecf-597c64598879"
      },
      "outputs": [
        {
          "data": {
            "text/plain": [
              "0    10\n",
              "1    20\n",
              "2    30\n",
              "dtype: int64"
            ]
          },
          "execution_count": 3,
          "metadata": {},
          "output_type": "execute_result"
        }
      ],
      "source": [
        "pd.Series(data=my_list)"
      ]
    },
    {
      "cell_type": "code",
      "execution_count": null,
      "metadata": {
        "id": "zEhHHqlfVXKq",
        "outputId": "d09f9d9e-d220-477a-d266-36a5bc7eced8"
      },
      "outputs": [
        {
          "data": {
            "text/plain": [
              "a    10\n",
              "b    20\n",
              "c    30\n",
              "dtype: int64"
            ]
          },
          "execution_count": 4,
          "metadata": {},
          "output_type": "execute_result"
        }
      ],
      "source": [
        "pd.Series(data=my_list,index=labels)"
      ]
    },
    {
      "cell_type": "code",
      "execution_count": null,
      "metadata": {
        "id": "OfV__3ODVXKr",
        "outputId": "92246f93-a1a0-4653-cfd7-985971967854"
      },
      "outputs": [
        {
          "data": {
            "text/plain": [
              "a    10\n",
              "b    20\n",
              "c    30\n",
              "dtype: int64"
            ]
          },
          "execution_count": 5,
          "metadata": {},
          "output_type": "execute_result"
        }
      ],
      "source": [
        "pd.Series(my_list,labels)"
      ]
    },
    {
      "cell_type": "markdown",
      "metadata": {
        "id": "xLA6ya9gVXKs"
      },
      "source": [
        "** Arrays NumPy **"
      ]
    },
    {
      "cell_type": "code",
      "execution_count": null,
      "metadata": {
        "id": "ocwSx1EHVXKt",
        "outputId": "1fa5cb8f-2dda-48a1-e66a-4c92c5c6310a"
      },
      "outputs": [
        {
          "data": {
            "text/plain": [
              "0    10\n",
              "1    20\n",
              "2    30\n",
              "dtype: int32"
            ]
          },
          "execution_count": 6,
          "metadata": {},
          "output_type": "execute_result"
        }
      ],
      "source": [
        "pd.Series(arr)"
      ]
    },
    {
      "cell_type": "code",
      "execution_count": null,
      "metadata": {
        "id": "gc3RSnr1VXKu",
        "outputId": "94358ff1-3f8e-4f92-8c5e-ddd582f06925"
      },
      "outputs": [
        {
          "data": {
            "text/plain": [
              "a    10\n",
              "b    20\n",
              "c    30\n",
              "dtype: int32"
            ]
          },
          "execution_count": 7,
          "metadata": {},
          "output_type": "execute_result"
        }
      ],
      "source": [
        "pd.Series(arr,labels)"
      ]
    },
    {
      "cell_type": "markdown",
      "metadata": {
        "id": "37gUuNQcVXKu"
      },
      "source": [
        "** Diccionario**"
      ]
    },
    {
      "cell_type": "code",
      "execution_count": null,
      "metadata": {
        "id": "HjqvKsWjVXKv",
        "outputId": "60daef13-49a4-4c2a-c1f7-630ce13d3d40"
      },
      "outputs": [
        {
          "data": {
            "text/plain": [
              "a    10\n",
              "b    20\n",
              "c    30\n",
              "dtype: int64"
            ]
          },
          "execution_count": 8,
          "metadata": {},
          "output_type": "execute_result"
        }
      ],
      "source": [
        "pd.Series(d)"
      ]
    },
    {
      "cell_type": "markdown",
      "metadata": {
        "id": "4tBpm84OVXKv"
      },
      "source": [
        "### Datos en una Serie\n",
        "\n",
        "Una serie de Pandas puede contener una variedad de tipos de objetos:"
      ]
    },
    {
      "cell_type": "code",
      "execution_count": null,
      "metadata": {
        "id": "03mGvxZfVXKw",
        "outputId": "5d5f1817-9cc7-45f1-f3a7-1f940fa7095e"
      },
      "outputs": [
        {
          "data": {
            "text/plain": [
              "0    a\n",
              "1    b\n",
              "2    c\n",
              "dtype: object"
            ]
          },
          "execution_count": 9,
          "metadata": {},
          "output_type": "execute_result"
        }
      ],
      "source": [
        "pd.Series(data=labels)"
      ]
    },
    {
      "cell_type": "code",
      "execution_count": null,
      "metadata": {
        "id": "Kgdch3ZcVXKx",
        "outputId": "a2e00265-5445-411a-c0dc-9ce765effcc2"
      },
      "outputs": [
        {
          "data": {
            "text/plain": [
              "0      <built-in function sum>\n",
              "1    <built-in function print>\n",
              "2      <built-in function len>\n",
              "dtype: object"
            ]
          },
          "execution_count": 10,
          "metadata": {},
          "output_type": "execute_result"
        }
      ],
      "source": [
        "# Incluso funciones (aunque es poco probable que uses esto)\n",
        "pd.Series([sum,print,len])"
      ]
    },
    {
      "cell_type": "markdown",
      "metadata": {
        "id": "r9FO_huYVXKx"
      },
      "source": [
        "## Usando un Index\n",
        "\n",
        "La clave para usar una serie es comprender su índice. Pandas hace uso de estos nombres o números de índice al permitir búsquedas rápidas de información (funciona como una tabla hash o un diccionario).\n",
        "\n",
        "Veamos algunos ejemplos de cómo obtener información de una serie. Creemos dos sereis, ser1 y ser2:"
      ]
    },
    {
      "cell_type": "code",
      "execution_count": null,
      "metadata": {
        "id": "iNTnY5a6VXKy"
      },
      "outputs": [],
      "source": [
        "ser1 = pd.Series([1,2,3,4],index = ['USA', 'Alemania','Rusia', 'Japón'])                                   "
      ]
    },
    {
      "cell_type": "code",
      "execution_count": null,
      "metadata": {
        "id": "NrWO-N0EVXKy",
        "outputId": "a35b9f30-1f93-43b0-d7fe-8cf1a8031bb4"
      },
      "outputs": [
        {
          "data": {
            "text/plain": [
              "USA         1\n",
              "Alemania    2\n",
              "Rusia       3\n",
              "Japón       4\n",
              "dtype: int64"
            ]
          },
          "execution_count": 12,
          "metadata": {},
          "output_type": "execute_result"
        }
      ],
      "source": [
        "ser1"
      ]
    },
    {
      "cell_type": "code",
      "execution_count": null,
      "metadata": {
        "id": "E7s-p9KdVXKz"
      },
      "outputs": [],
      "source": [
        "ser2 = pd.Series([1,2,5,4],index = ['USA', 'Alemania','Italia', 'Japón'])                                   "
      ]
    },
    {
      "cell_type": "code",
      "execution_count": null,
      "metadata": {
        "id": "hwjVlI_xVXKz",
        "outputId": "95057dc7-8ec2-4827-fc9e-39577437bd7c"
      },
      "outputs": [
        {
          "data": {
            "text/plain": [
              "USA         1\n",
              "Alemania    2\n",
              "Italia      5\n",
              "Japón       4\n",
              "dtype: int64"
            ]
          },
          "execution_count": 14,
          "metadata": {},
          "output_type": "execute_result"
        }
      ],
      "source": [
        "ser2"
      ]
    },
    {
      "cell_type": "code",
      "execution_count": null,
      "metadata": {
        "id": "X1rDYx1dVXK0",
        "outputId": "fc433616-cc0c-4c95-efc3-dbd6d1e80f26"
      },
      "outputs": [
        {
          "data": {
            "text/plain": [
              "1"
            ]
          },
          "execution_count": 15,
          "metadata": {},
          "output_type": "execute_result"
        }
      ],
      "source": [
        "ser1['USA']"
      ]
    },
    {
      "cell_type": "markdown",
      "metadata": {
        "id": "9It6ODL_VXK0"
      },
      "source": [
        "Las operaciones también se realizan en función del índice:"
      ]
    },
    {
      "cell_type": "code",
      "execution_count": null,
      "metadata": {
        "id": "feFWg6KDVXK1",
        "outputId": "6827aa6b-059f-412b-8acc-072db8b13b85"
      },
      "outputs": [
        {
          "data": {
            "text/plain": [
              "Alemania    4.0\n",
              "Italia      NaN\n",
              "Japón       8.0\n",
              "Rusia       NaN\n",
              "USA         2.0\n",
              "dtype: float64"
            ]
          },
          "execution_count": 16,
          "metadata": {},
          "output_type": "execute_result"
        }
      ],
      "source": [
        "ser1 + ser2"
      ]
    },
    {
      "cell_type": "markdown",
      "metadata": {
        "id": "JEmqvaecVXK1"
      },
      "source": [
        "Detengámonos aquí por ahora y pasemos a DataFrames, que ampliará el concepto de Series.\n",
        "# Buen trabajo!"
      ]
    }
  ],
  "metadata": {
    "kernelspec": {
      "display_name": "Python 3",
      "language": "python",
      "name": "python3"
    },
    "language_info": {
      "codemirror_mode": {
        "name": "ipython",
        "version": 3
      },
      "file_extension": ".py",
      "mimetype": "text/x-python",
      "name": "python",
      "nbconvert_exporter": "python",
      "pygments_lexer": "ipython3",
      "version": "3.8.5"
    },
    "colab": {
      "name": "02-Series.ipynb",
      "provenance": [],
      "include_colab_link": true
    }
  },
  "nbformat": 4,
  "nbformat_minor": 0
}