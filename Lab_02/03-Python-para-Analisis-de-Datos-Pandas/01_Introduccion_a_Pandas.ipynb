{
  "cells": [
    {
      "cell_type": "markdown",
      "metadata": {
        "id": "view-in-github",
        "colab_type": "text"
      },
      "source": [
        "<a href=\"https://colab.research.google.com/github/DanielCGR/Laboratorios_U201920113_Python/blob/main/Lab_02/03-Python-para-Analisis-de-Datos-Pandas/01_Introduccion_a_Pandas.ipynb\" target=\"_parent\"><img src=\"https://colab.research.google.com/assets/colab-badge.svg\" alt=\"Open In Colab\"/></a>"
      ]
    },
    {
      "cell_type": "markdown",
      "metadata": {
        "id": "X0nc6XhTTCtW"
      },
      "source": [
        "___\n",
        "\n",
        "<a href='https://pregrado.upc.edu.pe/facultad-de-ingenieria/ciencias-de-la-computacion/'> <img src='https://tftransporteinternacional.files.wordpress.com/2014/06/76b3b-logoupc.png' with = 200, height = 100 /></a>\n",
        "<a href='https://jupyter-notebook.readthedocs.io/en/stable/examples/Notebook/Running%20Code.html'> <img src='https://www.python.org/static/img/python-logo.png' /></a>\n",
        "___"
      ]
    },
    {
      "cell_type": "markdown",
      "metadata": {
        "collapsed": true,
        "id": "yMbBzX5mTCte"
      },
      "source": [
        "# Introducción a Pandas\n",
        "\n",
        "En esta sección del curso aprenderemos cómo usar la libreria Pandas de Python para el análisis de datos. Podemos comparar Pandas como una versión extremadamente poderosa de Excel, con muchas más funciones. En esta clase práctica, deberemos revisar los cuadernos (notebooks) en este orden:\n",
        "\n",
        "* Introducción a Pandas\n",
        "* Series\n",
        "* DataFrames\n",
        "* Missing Data (datos faltantes)\n",
        "* GroupBy\n",
        "* Merging,Joining,y Concatenating\n",
        "* Operaciones\n",
        "* Data Input y Output"
      ]
    },
    {
      "cell_type": "markdown",
      "metadata": {
        "id": "wUHxdF1xTCtf"
      },
      "source": [
        "___"
      ]
    }
  ],
  "metadata": {
    "kernelspec": {
      "display_name": "Python 3",
      "language": "python",
      "name": "python3"
    },
    "language_info": {
      "codemirror_mode": {
        "name": "ipython",
        "version": 3
      },
      "file_extension": ".py",
      "mimetype": "text/x-python",
      "name": "python",
      "nbconvert_exporter": "python",
      "pygments_lexer": "ipython3",
      "version": "3.8.5"
    },
    "colab": {
      "name": "01-Introduccion a Pandas.ipynb",
      "provenance": [],
      "include_colab_link": true
    }
  },
  "nbformat": 4,
  "nbformat_minor": 0
}